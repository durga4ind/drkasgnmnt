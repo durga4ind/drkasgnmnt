{
 "cells": [
  {
   "cell_type": "markdown",
   "metadata": {},
   "source": [
    "# Time Sereias Analysis model based"
   ]
  },
  {
   "cell_type": "code",
   "execution_count": 42,
   "metadata": {},
   "outputs": [],
   "source": [
    "# impoerting basic libraries\n",
    "import pandas as pd\n",
    "import numpy as np\n",
    "from matplotlib import pyplot"
   ]
  },
  {
   "cell_type": "code",
   "execution_count": 171,
   "metadata": {},
   "outputs": [
    {
     "data": {
      "text/html": [
       "<div>\n",
       "<style scoped>\n",
       "    .dataframe tbody tr th:only-of-type {\n",
       "        vertical-align: middle;\n",
       "    }\n",
       "\n",
       "    .dataframe tbody tr th {\n",
       "        vertical-align: top;\n",
       "    }\n",
       "\n",
       "    .dataframe thead th {\n",
       "        text-align: right;\n",
       "    }\n",
       "</style>\n",
       "<table border=\"1\" class=\"dataframe\">\n",
       "  <thead>\n",
       "    <tr style=\"text-align: right;\">\n",
       "      <th></th>\n",
       "      <th>Passengers</th>\n",
       "    </tr>\n",
       "    <tr>\n",
       "      <th>Month</th>\n",
       "      <th></th>\n",
       "    </tr>\n",
       "  </thead>\n",
       "  <tbody>\n",
       "    <tr>\n",
       "      <th>1960-08-01</th>\n",
       "      <td>606</td>\n",
       "    </tr>\n",
       "    <tr>\n",
       "      <th>1960-09-01</th>\n",
       "      <td>508</td>\n",
       "    </tr>\n",
       "    <tr>\n",
       "      <th>1960-10-01</th>\n",
       "      <td>461</td>\n",
       "    </tr>\n",
       "    <tr>\n",
       "      <th>1960-11-01</th>\n",
       "      <td>390</td>\n",
       "    </tr>\n",
       "    <tr>\n",
       "      <th>1960-12-01</th>\n",
       "      <td>432</td>\n",
       "    </tr>\n",
       "  </tbody>\n",
       "</table>\n",
       "</div>"
      ],
      "text/plain": [
       "            Passengers\n",
       "Month                 \n",
       "1960-08-01         606\n",
       "1960-09-01         508\n",
       "1960-10-01         461\n",
       "1960-11-01         390\n",
       "1960-12-01         432"
      ]
     },
     "execution_count": 171,
     "metadata": {},
     "output_type": "execute_result"
    }
   ],
   "source": [
    "# reading the data\n",
    "Air_series = pd.read_csv('airline-passengers.csv', header=0, index_col=0, parse_dates=True)\n",
    "Air_series.tail()"
   ]
  },
  {
   "cell_type": "code",
   "execution_count": 172,
   "metadata": {},
   "outputs": [
    {
     "data": {
      "text/plain": [
       "<AxesSubplot:xlabel='Month'>"
      ]
     },
     "execution_count": 172,
     "metadata": {},
     "output_type": "execute_result"
    },
    {
     "data": {
      "image/png": "[encoded data removed]",
      "text/plain": [
       "<Figure size 432x288 with 1 Axes>"
      ]
     },
     "metadata": {
      "needs_background": "light"
     },
     "output_type": "display_data"
    }
   ],
   "source": [
    "# visualising the data\n",
    "Air_series.plot()"
   ]
  },
  {
   "cell_type": "code",
   "execution_count": 176,
   "metadata": {},
   "outputs": [],
   "source": [
    "df = Air_series.copy()"
   ]
  },
  {
   "cell_type": "code",
   "execution_count": 177,
   "metadata": {},
   "outputs": [],
   "source": [
    "# adding time period as interger time tp\n",
    "df['TP']= range(1,len(Air_series)+1)"
   ]
  },
  {
   "cell_type": "code",
   "execution_count": 179,
   "metadata": {},
   "outputs": [],
   "source": [
    "#  creating T square abd log values\n",
    "df['TPSQ']= df['TP']*df['TP']\n",
    "df['LogPs']= np.log(df['Passengers'])"
   ]
  },
  {
   "cell_type": "code",
   "execution_count": 180,
   "metadata": {},
   "outputs": [],
   "source": [
    "# extracting month from date time data\n",
    "df[\"month\"] = df.index.strftime(\"%b\")\n"
   ]
  },
  {
   "cell_type": "code",
   "execution_count": 181,
   "metadata": {},
   "outputs": [
    {
     "data": {
      "text/html": [
       "<div>\n",
       "<style scoped>\n",
       "    .dataframe tbody tr th:only-of-type {\n",
       "        vertical-align: middle;\n",
       "    }\n",
       "\n",
       "    .dataframe tbody tr th {\n",
       "        vertical-align: top;\n",
       "    }\n",
       "\n",
       "    .dataframe thead th {\n",
       "        text-align: right;\n",
       "    }\n",
       "</style>\n",
       "<table border=\"1\" class=\"dataframe\">\n",
       "  <thead>\n",
       "    <tr style=\"text-align: right;\">\n",
       "      <th></th>\n",
       "      <th>Sales</th>\n",
       "      <th>TP</th>\n",
       "      <th>TPSQ</th>\n",
       "      <th>Logsale</th>\n",
       "      <th>month</th>\n",
       "    </tr>\n",
       "  </thead>\n",
       "  <tbody>\n",
       "    <tr>\n",
       "      <th>1986-03-31</th>\n",
       "      <td>1734.827000</td>\n",
       "      <td>1</td>\n",
       "      <td>1</td>\n",
       "      <td>7.458663</td>\n",
       "      <td>Mar</td>\n",
       "    </tr>\n",
       "    <tr>\n",
       "      <th>1986-04-30</th>\n",
       "      <td>1821.717956</td>\n",
       "      <td>2</td>\n",
       "      <td>4</td>\n",
       "      <td>7.507535</td>\n",
       "      <td>Apr</td>\n",
       "    </tr>\n",
       "    <tr>\n",
       "      <th>1986-05-31</th>\n",
       "      <td>1992.696933</td>\n",
       "      <td>3</td>\n",
       "      <td>9</td>\n",
       "      <td>7.597244</td>\n",
       "      <td>May</td>\n",
       "    </tr>\n",
       "    <tr>\n",
       "      <th>1986-06-30</th>\n",
       "      <td>2163.675911</td>\n",
       "      <td>4</td>\n",
       "      <td>16</td>\n",
       "      <td>7.679564</td>\n",
       "      <td>Jun</td>\n",
       "    </tr>\n",
       "    <tr>\n",
       "      <th>1986-07-31</th>\n",
       "      <td>2295.194737</td>\n",
       "      <td>5</td>\n",
       "      <td>25</td>\n",
       "      <td>7.738573</td>\n",
       "      <td>Jul</td>\n",
       "    </tr>\n",
       "  </tbody>\n",
       "</table>\n",
       "</div>"
      ],
      "text/plain": [
       "                  Sales  TP  TPSQ   Logsale month\n",
       "1986-03-31  1734.827000   1     1  7.458663   Mar\n",
       "1986-04-30  1821.717956   2     4  7.507535   Apr\n",
       "1986-05-31  1992.696933   3     9  7.597244   May\n",
       "1986-06-30  2163.675911   4    16  7.679564   Jun\n",
       "1986-07-31  2295.194737   5    25  7.738573   Jul"
      ]
     },
     "execution_count": 181,
     "metadata": {},
     "output_type": "execute_result"
    }
   ],
   "source": [
    "monthly_sales.head()"
   ]
  },
  {
   "cell_type": "code",
   "execution_count": 182,
   "metadata": {},
   "outputs": [
    {
     "name": "stdout",
     "output_type": "stream",
     "text": [
      "<class 'pandas.core.frame.DataFrame'>\n",
      "DatetimeIndex: 144 entries, 1949-01-01 to 1960-12-01\n",
      "Data columns (total 5 columns):\n",
      " #   Column      Non-Null Count  Dtype  \n",
      "---  ------      --------------  -----  \n",
      " 0   Passengers  144 non-null    int64  \n",
      " 1   TP          144 non-null    int32  \n",
      " 2   TPSQ        144 non-null    int32  \n",
      " 3   LogPs       144 non-null    float64\n",
      " 4   month       144 non-null    object \n",
      "dtypes: float64(1), int32(2), int64(1), object(1)\n",
      "memory usage: 5.6+ KB\n"
     ]
    }
   ],
   "source": [
    "df.info()"
   ]
  },
  {
   "cell_type": "code",
   "execution_count": 183,
   "metadata": {},
   "outputs": [],
   "source": [
    "# getting dummies for the month data\n",
    "df_d = pd.get_dummies(df, dtype = int)"
   ]
  },
  {
   "cell_type": "code",
   "execution_count": 184,
   "metadata": {},
   "outputs": [
    {
     "data": {
      "text/html": [
       "<div>\n",
       "<style scoped>\n",
       "    .dataframe tbody tr th:only-of-type {\n",
       "        vertical-align: middle;\n",
       "    }\n",
       "\n",
       "    .dataframe tbody tr th {\n",
       "        vertical-align: top;\n",
       "    }\n",
       "\n",
       "    .dataframe thead th {\n",
       "        text-align: right;\n",
       "    }\n",
       "</style>\n",
       "<table border=\"1\" class=\"dataframe\">\n",
       "  <thead>\n",
       "    <tr style=\"text-align: right;\">\n",
       "      <th></th>\n",
       "      <th>Passengers</th>\n",
       "      <th>TP</th>\n",
       "      <th>TPSQ</th>\n",
       "      <th>LogPs</th>\n",
       "      <th>month_Apr</th>\n",
       "      <th>month_Aug</th>\n",
       "      <th>month_Dec</th>\n",
       "      <th>month_Feb</th>\n",
       "      <th>month_Jan</th>\n",
       "      <th>month_Jul</th>\n",
       "      <th>month_Jun</th>\n",
       "      <th>month_Mar</th>\n",
       "      <th>month_May</th>\n",
       "      <th>month_Nov</th>\n",
       "      <th>month_Oct</th>\n",
       "      <th>month_Sep</th>\n",
       "    </tr>\n",
       "    <tr>\n",
       "      <th>Month</th>\n",
       "      <th></th>\n",
       "      <th></th>\n",
       "      <th></th>\n",
       "      <th></th>\n",
       "      <th></th>\n",
       "      <th></th>\n",
       "      <th></th>\n",
       "      <th></th>\n",
       "      <th></th>\n",
       "      <th></th>\n",
       "      <th></th>\n",
       "      <th></th>\n",
       "      <th></th>\n",
       "      <th></th>\n",
       "      <th></th>\n",
       "      <th></th>\n",
       "    </tr>\n",
       "  </thead>\n",
       "  <tbody>\n",
       "    <tr>\n",
       "      <th>1949-01-01</th>\n",
       "      <td>112</td>\n",
       "      <td>1</td>\n",
       "      <td>1</td>\n",
       "      <td>4.718499</td>\n",
       "      <td>0</td>\n",
       "      <td>0</td>\n",
       "      <td>0</td>\n",
       "      <td>0</td>\n",
       "      <td>1</td>\n",
       "      <td>0</td>\n",
       "      <td>0</td>\n",
       "      <td>0</td>\n",
       "      <td>0</td>\n",
       "      <td>0</td>\n",
       "      <td>0</td>\n",
       "      <td>0</td>\n",
       "    </tr>\n",
       "    <tr>\n",
       "      <th>1949-02-01</th>\n",
       "      <td>118</td>\n",
       "      <td>2</td>\n",
       "      <td>4</td>\n",
       "      <td>4.770685</td>\n",
       "      <td>0</td>\n",
       "      <td>0</td>\n",
       "      <td>0</td>\n",
       "      <td>1</td>\n",
       "      <td>0</td>\n",
       "      <td>0</td>\n",
       "      <td>0</td>\n",
       "      <td>0</td>\n",
       "      <td>0</td>\n",
       "      <td>0</td>\n",
       "      <td>0</td>\n",
       "      <td>0</td>\n",
       "    </tr>\n",
       "    <tr>\n",
       "      <th>1949-03-01</th>\n",
       "      <td>132</td>\n",
       "      <td>3</td>\n",
       "      <td>9</td>\n",
       "      <td>4.882802</td>\n",
       "      <td>0</td>\n",
       "      <td>0</td>\n",
       "      <td>0</td>\n",
       "      <td>0</td>\n",
       "      <td>0</td>\n",
       "      <td>0</td>\n",
       "      <td>0</td>\n",
       "      <td>1</td>\n",
       "      <td>0</td>\n",
       "      <td>0</td>\n",
       "      <td>0</td>\n",
       "      <td>0</td>\n",
       "    </tr>\n",
       "    <tr>\n",
       "      <th>1949-04-01</th>\n",
       "      <td>129</td>\n",
       "      <td>4</td>\n",
       "      <td>16</td>\n",
       "      <td>4.859812</td>\n",
       "      <td>1</td>\n",
       "      <td>0</td>\n",
       "      <td>0</td>\n",
       "      <td>0</td>\n",
       "      <td>0</td>\n",
       "      <td>0</td>\n",
       "      <td>0</td>\n",
       "      <td>0</td>\n",
       "      <td>0</td>\n",
       "      <td>0</td>\n",
       "      <td>0</td>\n",
       "      <td>0</td>\n",
       "    </tr>\n",
       "    <tr>\n",
       "      <th>1949-05-01</th>\n",
       "      <td>121</td>\n",
       "      <td>5</td>\n",
       "      <td>25</td>\n",
       "      <td>4.795791</td>\n",
       "      <td>0</td>\n",
       "      <td>0</td>\n",
       "      <td>0</td>\n",
       "      <td>0</td>\n",
       "      <td>0</td>\n",
       "      <td>0</td>\n",
       "      <td>0</td>\n",
       "      <td>0</td>\n",
       "      <td>1</td>\n",
       "      <td>0</td>\n",
       "      <td>0</td>\n",
       "      <td>0</td>\n",
       "    </tr>\n",
       "  </tbody>\n",
       "</table>\n",
       "</div>"
      ],
      "text/plain": [
       "            Passengers  TP  TPSQ     LogPs  month_Apr  month_Aug  month_Dec  \\\n",
       "Month                                                                         \n",
       "1949-01-01         112   1     1  4.718499          0          0          0   \n",
       "1949-02-01         118   2     4  4.770685          0          0          0   \n",
       "1949-03-01         132   3     9  4.882802          0          0          0   \n",
       "1949-04-01         129   4    16  4.859812          1          0          0   \n",
       "1949-05-01         121   5    25  4.795791          0          0          0   \n",
       "\n",
       "            month_Feb  month_Jan  month_Jul  month_Jun  month_Mar  month_May  \\\n",
       "Month                                                                          \n",
       "1949-01-01          0          1          0          0          0          0   \n",
       "1949-02-01          1          0          0          0          0          0   \n",
       "1949-03-01          0          0          0          0          1          0   \n",
       "1949-04-01          0          0          0          0          0          0   \n",
       "1949-05-01          0          0          0          0          0          1   \n",
       "\n",
       "            month_Nov  month_Oct  month_Sep  \n",
       "Month                                        \n",
       "1949-01-01          0          0          0  \n",
       "1949-02-01          0          0          0  \n",
       "1949-03-01          0          0          0  \n",
       "1949-04-01          0          0          0  \n",
       "1949-05-01          0          0          0  "
      ]
     },
     "execution_count": 184,
     "metadata": {},
     "output_type": "execute_result"
    }
   ],
   "source": [
    "df_d.head()"
   ]
  },
  {
   "cell_type": "markdown",
   "metadata": {},
   "source": [
    "# Splitting data"
   ]
  },
  {
   "cell_type": "code",
   "execution_count": 186,
   "metadata": {},
   "outputs": [
    {
     "data": {
      "text/plain": [
       "(144, 16)"
      ]
     },
     "execution_count": 186,
     "metadata": {},
     "output_type": "execute_result"
    }
   ],
   "source": [
    "df_d.shape"
   ]
  },
  {
   "cell_type": "code",
   "execution_count": 187,
   "metadata": {},
   "outputs": [
    {
     "data": {
      "text/plain": [
       "Index(['Passengers', 'TP', 'TPSQ', 'LogPs', 'month_Apr', 'month_Aug',\n",
       "       'month_Dec', 'month_Feb', 'month_Jan', 'month_Jul', 'month_Jun',\n",
       "       'month_Mar', 'month_May', 'month_Nov', 'month_Oct', 'month_Sep'],\n",
       "      dtype='object')"
      ]
     },
     "execution_count": 187,
     "metadata": {},
     "output_type": "execute_result"
    }
   ],
   "source": [
    "df_d.columns"
   ]
  },
  {
   "cell_type": "code",
   "execution_count": 188,
   "metadata": {},
   "outputs": [],
   "source": [
    "# splitting the data into test and train\n",
    "split = len(df_d)-20\n",
    "Train = df_d[0:split]\n",
    "Test = df_d[split:]"
   ]
  },
  {
   "cell_type": "code",
   "execution_count": 189,
   "metadata": {},
   "outputs": [
    {
     "name": "stdout",
     "output_type": "stream",
     "text": [
      "(144, 5) (124, 16) (20, 16)\n"
     ]
    }
   ],
   "source": [
    "print(df.shape,Train.shape, Test.shape)"
   ]
  },
  {
   "cell_type": "code",
   "execution_count": 190,
   "metadata": {},
   "outputs": [
    {
     "name": "stdout",
     "output_type": "stream",
     "text": [
      "<class 'pandas.core.frame.DataFrame'>\n",
      "DatetimeIndex: 124 entries, 1949-01-01 to 1959-04-01\n",
      "Data columns (total 16 columns):\n",
      " #   Column      Non-Null Count  Dtype  \n",
      "---  ------      --------------  -----  \n",
      " 0   Passengers  124 non-null    int64  \n",
      " 1   TP          124 non-null    int32  \n",
      " 2   TPSQ        124 non-null    int32  \n",
      " 3   LogPs       124 non-null    float64\n",
      " 4   month_Apr   124 non-null    int32  \n",
      " 5   month_Aug   124 non-null    int32  \n",
      " 6   month_Dec   124 non-null    int32  \n",
      " 7   month_Feb   124 non-null    int32  \n",
      " 8   month_Jan   124 non-null    int32  \n",
      " 9   month_Jul   124 non-null    int32  \n",
      " 10  month_Jun   124 non-null    int32  \n",
      " 11  month_Mar   124 non-null    int32  \n",
      " 12  month_May   124 non-null    int32  \n",
      " 13  month_Nov   124 non-null    int32  \n",
      " 14  month_Oct   124 non-null    int32  \n",
      " 15  month_Sep   124 non-null    int32  \n",
      "dtypes: float64(1), int32(14), int64(1)\n",
      "memory usage: 9.7 KB\n"
     ]
    }
   ],
   "source": [
    "Train.info()"
   ]
  },
  {
   "cell_type": "markdown",
   "metadata": {},
   "source": [
    "# Model Based Methods"
   ]
  },
  {
   "cell_type": "markdown",
   "metadata": {},
   "source": [
    "## Linear Model"
   ]
  },
  {
   "cell_type": "code",
   "execution_count": 194,
   "metadata": {},
   "outputs": [
    {
     "data": {
      "text/plain": [
       "82.08970215725851"
      ]
     },
     "execution_count": 194,
     "metadata": {},
     "output_type": "execute_result"
    }
   ],
   "source": [
    "import statsmodels.formula.api as sm\n",
    "\n",
    "# linear Model fitting\n",
    "linear_model = sm.ols('Passengers~TP',data=Train).fit()\n",
    "pred_linear =  pd.Series(linear_model.predict(Test['TP']))\n",
    "rmse_linear = np.sqrt(np.mean((np.array(Test['Passengers'])-np.array(pred_linear))**2))\n",
    "rmse_linear"
   ]
  },
  {
   "cell_type": "code",
   "execution_count": 195,
   "metadata": {},
   "outputs": [
    {
     "data": {
      "text/plain": [
       "77.14147435700853"
      ]
     },
     "execution_count": 195,
     "metadata": {},
     "output_type": "execute_result"
    }
   ],
   "source": [
    "#Exponential model\n",
    "\n",
    "Exp = sm.ols('LogPs~TP',data=Train).fit()\n",
    "pred_Exp = pd.Series(Exp.predict(pd.DataFrame(Test['TP'])))\n",
    "rmse_Exp = np.sqrt(np.mean((np.array(Test['Passengers'])-np.array(np.exp(pred_Exp)))**2))\n",
    "rmse_Exp\n"
   ]
  },
  {
   "cell_type": "code",
   "execution_count": 196,
   "metadata": {},
   "outputs": [
    {
     "data": {
      "text/plain": [
       "75.23538008231668"
      ]
     },
     "execution_count": 196,
     "metadata": {},
     "output_type": "execute_result"
    }
   ],
   "source": [
    "#Quadratic model\n",
    "\n",
    "Quad = sm.ols('Passengers~TP+TPSQ',data=Train).fit()\n",
    "pred_Quad = pd.Series(Quad.predict(Test[['TP','TPSQ']]))\n",
    "rmse_Quad = np.sqrt(np.mean((np.array(Test['Passengers'])-np.array(pred_Quad))**2))\n",
    "rmse_Quad"
   ]
  },
  {
   "cell_type": "code",
   "execution_count": 210,
   "metadata": {},
   "outputs": [
    {
     "data": {
      "text/plain": [
       "218.9562774385609"
      ]
     },
     "execution_count": 210,
     "metadata": {},
     "output_type": "execute_result"
    }
   ],
   "source": [
    "#Additive seasonality \n",
    "\n",
    "add_sea = sm.ols('Passengers~ month_Apr+month_Aug+month_Dec+month_Feb+month_Jan+month_Jul+month_Jun+month_Mar+month_May+month_Nov+month_Oct+month_Sep',data=Train).fit()\n",
    "pred_add_sea = pd.Series(add_sea.predict(Test[['month_Apr', 'month_Aug', 'month_Dec',\n",
    "       'month_Feb', 'month_Jan', 'month_Jul', 'month_Jun', 'month_Mar',\n",
    "       'month_May', 'month_Nov', 'month_Oct', 'month_Sep']]))\n",
    "rmse_add_sea = np.sqrt(np.mean((np.array(Test['Passengers'])-np.array(pred_add_sea))**2))\n",
    "rmse_add_sea"
   ]
  },
  {
   "cell_type": "code",
   "execution_count": 201,
   "metadata": {},
   "outputs": [
    {
     "data": {
      "text/plain": [
       "41.20732795050039"
      ]
     },
     "execution_count": 201,
     "metadata": {},
     "output_type": "execute_result"
    }
   ],
   "source": [
    "#Additive Seasonality with quadratic Quadratic \n",
    "\n",
    "add_sea_Quad = sm.ols('Passengers~ TP+TPSQ+month_Apr+month_Aug+month_Dec+month_Feb+month_Jan+month_Jul+month_Jun+month_Mar+month_May+month_Nov+month_Oct+month_Sep',data=Train).fit()\n",
    "pred_add_sea_quad = pd.Series(add_sea_Quad.predict(Test))\n",
    "rmse_add_sea_quad = np.sqrt(np.mean((np.array(Test['Passengers'])-np.array(pred_add_sea_quad))**2))\n",
    "rmse_add_sea_quad"
   ]
  },
  {
   "cell_type": "code",
   "execution_count": 209,
   "metadata": {},
   "outputs": [
    {
     "data": {
      "text/plain": [
       "236.13152619224581"
      ]
     },
     "execution_count": 209,
     "metadata": {},
     "output_type": "execute_result"
    }
   ],
   "source": [
    "##Multiplicative Seasonality model\n",
    "\n",
    "Mul_sea = sm.ols('LogPs~ month_Apr+month_Aug+month_Dec+month_Feb+month_Jan+month_Jul+month_Jun+month_Mar+month_May+month_Nov+month_Oct+month_Sep',data=Train).fit()\n",
    "pred_Mult_sea = pd.Series(Mul_sea.predict(Test[['month_Apr', 'month_Aug', 'month_Dec',\n",
    "       'month_Feb', 'month_Jan', 'month_Jul', 'month_Jun', 'month_Mar',\n",
    "       'month_May', 'month_Nov', 'month_Oct', 'month_Sep']]))\n",
    "#pred_Mult_sea = pd.Series(Mul_sea.predict(Test))\n",
    "rmse_Mult_sea = np.sqrt(np.mean((np.array(Test['Passengers'])-np.array(np.exp(pred_Mult_sea)))**2))\n",
    "rmse_Mult_sea"
   ]
  },
  {
   "cell_type": "code",
   "execution_count": 207,
   "metadata": {},
   "outputs": [
    {
     "data": {
      "text/plain": [
       "38.36491279421249"
      ]
     },
     "execution_count": 207,
     "metadata": {},
     "output_type": "execute_result"
    }
   ],
   "source": [
    "#Multiplicative Additive Seasonality model\n",
    "\n",
    "Mul_add_sea = sm.ols('LogPs~ TP+month_Apr+month_Aug+month_Dec+month_Feb+month_Jan+month_Jul+month_Jun+month_Mar+month_May+month_Nov+month_Oct+month_Sep',data=Train).fit()\n",
    "pred_Mult_add_sea = pd.Series(Mul_add_sea.predict(Test[['TP','month_Apr', 'month_Aug', 'month_Dec',\n",
    "      'month_Feb', 'month_Jan', 'month_Jul', 'month_Jun', 'month_Mar',\n",
    "     'month_May', 'month_Nov', 'month_Oct', 'month_Sep']]))\n",
    "#pred_Mult_add_sea = pd.Series(Mul_Add_sea.predict(Test))\n",
    "rmse_Mult_add_sea = np.sqrt(np.mean((np.array(Test['Passengers'])-np.array(np.exp(pred_Mult_add_sea)))**2))\n",
    "rmse_Mult_add_sea "
   ]
  },
  {
   "cell_type": "code",
   "execution_count": 211,
   "metadata": {},
   "outputs": [
    {
     "data": {
      "text/html": [
       "<div>\n",
       "<style scoped>\n",
       "    .dataframe tbody tr th:only-of-type {\n",
       "        vertical-align: middle;\n",
       "    }\n",
       "\n",
       "    .dataframe tbody tr th {\n",
       "        vertical-align: top;\n",
       "    }\n",
       "\n",
       "    .dataframe thead th {\n",
       "        text-align: right;\n",
       "    }\n",
       "</style>\n",
       "<table border=\"1\" class=\"dataframe\">\n",
       "  <thead>\n",
       "    <tr style=\"text-align: right;\">\n",
       "      <th></th>\n",
       "      <th>MODEL</th>\n",
       "      <th>RMSE_Values</th>\n",
       "    </tr>\n",
       "  </thead>\n",
       "  <tbody>\n",
       "    <tr>\n",
       "      <th>6</th>\n",
       "      <td>rmse_Mult_add_sea</td>\n",
       "      <td>38.364913</td>\n",
       "    </tr>\n",
       "    <tr>\n",
       "      <th>4</th>\n",
       "      <td>rmse_add_sea_quad</td>\n",
       "      <td>41.207328</td>\n",
       "    </tr>\n",
       "    <tr>\n",
       "      <th>2</th>\n",
       "      <td>rmse_Quad</td>\n",
       "      <td>75.235380</td>\n",
       "    </tr>\n",
       "    <tr>\n",
       "      <th>1</th>\n",
       "      <td>rmse_Exp</td>\n",
       "      <td>77.141474</td>\n",
       "    </tr>\n",
       "    <tr>\n",
       "      <th>0</th>\n",
       "      <td>rmse_linear</td>\n",
       "      <td>82.089702</td>\n",
       "    </tr>\n",
       "    <tr>\n",
       "      <th>3</th>\n",
       "      <td>rmse_add_sea</td>\n",
       "      <td>218.956277</td>\n",
       "    </tr>\n",
       "    <tr>\n",
       "      <th>5</th>\n",
       "      <td>rmse_Mult_sea</td>\n",
       "      <td>236.131526</td>\n",
       "    </tr>\n",
       "  </tbody>\n",
       "</table>\n",
       "</div>"
      ],
      "text/plain": [
       "               MODEL  RMSE_Values\n",
       "6  rmse_Mult_add_sea    38.364913\n",
       "4  rmse_add_sea_quad    41.207328\n",
       "2          rmse_Quad    75.235380\n",
       "1           rmse_Exp    77.141474\n",
       "0        rmse_linear    82.089702\n",
       "3       rmse_add_sea   218.956277\n",
       "5      rmse_Mult_sea   236.131526"
      ]
     },
     "execution_count": 211,
     "metadata": {},
     "output_type": "execute_result"
    }
   ],
   "source": [
    "#Compare the results \n",
    "\n",
    "data = {\"MODEL\":pd.Series([\"rmse_linear\",\"rmse_Exp\",\"rmse_Quad\",\"rmse_add_sea\",\"rmse_add_sea_quad\",\"rmse_Mult_sea\",\"rmse_Mult_add_sea\"]),\"RMSE_Values\":pd.Series([rmse_linear,rmse_Exp,rmse_Quad,rmse_add_sea,rmse_add_sea_quad,rmse_Mult_sea,rmse_Mult_add_sea])}\n",
    "table_rmse=pd.DataFrame(data)\n",
    "table_rmse.sort_values(['RMSE_Values'])"
   ]
  },
  {
   "cell_type": "code",
   "execution_count": null,
   "metadata": {},
   "outputs": [],
   "source": [
    "# from the above it seems Multiplicative Additive Seasonality model is good fit"
   ]
  },
  {
   "cell_type": "code",
   "execution_count": 212,
   "metadata": {},
   "outputs": [],
   "source": [
    "# fitting for complete data\n",
    "Model_full = sm.ols('LogPs~ TP+TPSQ+month_Apr+month_Aug+month_Dec+month_Feb+month_Jan+month_Jul+month_Jun+month_Mar+month_May+month_Nov+month_Oct+month_Sep',data=df_d).fit()\n"
   ]
  },
  {
   "cell_type": "code",
   "execution_count": 213,
   "metadata": {},
   "outputs": [
    {
     "data": {
      "text/html": [
       "<table class=\"simpletable\">\n",
       "<caption>OLS Regression Results</caption>\n",
       "<tr>\n",
       "  <th>Dep. Variable:</th>          <td>LogPs</td>      <th>  R-squared:         </th> <td>   0.989</td> \n",
       "</tr>\n",
       "<tr>\n",
       "  <th>Model:</th>                   <td>OLS</td>       <th>  Adj. R-squared:    </th> <td>   0.988</td> \n",
       "</tr>\n",
       "<tr>\n",
       "  <th>Method:</th>             <td>Least Squares</td>  <th>  F-statistic:       </th> <td>   912.7</td> \n",
       "</tr>\n",
       "<tr>\n",
       "  <th>Date:</th>             <td>Wed, 19 May 2021</td> <th>  Prob (F-statistic):</th> <td>7.45e-121</td>\n",
       "</tr>\n",
       "<tr>\n",
       "  <th>Time:</th>                 <td>01:16:58</td>     <th>  Log-Likelihood:    </th> <td>  239.70</td> \n",
       "</tr>\n",
       "<tr>\n",
       "  <th>No. Observations:</th>      <td>   144</td>      <th>  AIC:               </th> <td>  -451.4</td> \n",
       "</tr>\n",
       "<tr>\n",
       "  <th>Df Residuals:</th>          <td>   130</td>      <th>  BIC:               </th> <td>  -409.8</td> \n",
       "</tr>\n",
       "<tr>\n",
       "  <th>Df Model:</th>              <td>    13</td>      <th>                     </th>     <td> </td>    \n",
       "</tr>\n",
       "<tr>\n",
       "  <th>Covariance Type:</th>      <td>nonrobust</td>    <th>                     </th>     <td> </td>    \n",
       "</tr>\n",
       "</table>\n",
       "<table class=\"simpletable\">\n",
       "<tr>\n",
       "      <td></td>         <th>coef</th>     <th>std err</th>      <th>t</th>      <th>P>|t|</th>  <th>[0.025</th>    <th>0.975]</th>  \n",
       "</tr>\n",
       "<tr>\n",
       "  <th>Intercept</th> <td>    4.3721</td> <td>    0.011</td> <td>  387.168</td> <td> 0.000</td> <td>    4.350</td> <td>    4.394</td>\n",
       "</tr>\n",
       "<tr>\n",
       "  <th>TP</th>        <td>    0.0132</td> <td>    0.000</td> <td>   33.877</td> <td> 0.000</td> <td>    0.012</td> <td>    0.014</td>\n",
       "</tr>\n",
       "<tr>\n",
       "  <th>TPSQ</th>      <td>-2.148e-05</td> <td>  2.6e-06</td> <td>   -8.265</td> <td> 0.000</td> <td>-2.66e-05</td> <td>-1.63e-05</td>\n",
       "</tr>\n",
       "<tr>\n",
       "  <th>month_Apr</th> <td>    0.3557</td> <td>    0.013</td> <td>   26.649</td> <td> 0.000</td> <td>    0.329</td> <td>    0.382</td>\n",
       "</tr>\n",
       "<tr>\n",
       "  <th>month_Aug</th> <td>    0.5700</td> <td>    0.013</td> <td>   42.659</td> <td> 0.000</td> <td>    0.544</td> <td>    0.596</td>\n",
       "</tr>\n",
       "<tr>\n",
       "  <th>month_Dec</th> <td>    0.2580</td> <td>    0.013</td> <td>   19.276</td> <td> 0.000</td> <td>    0.232</td> <td>    0.284</td>\n",
       "</tr>\n",
       "<tr>\n",
       "  <th>month_Feb</th> <td>    0.2571</td> <td>    0.013</td> <td>   19.265</td> <td> 0.000</td> <td>    0.231</td> <td>    0.283</td>\n",
       "</tr>\n",
       "<tr>\n",
       "  <th>month_Jan</th> <td>    0.2793</td> <td>    0.013</td> <td>   20.936</td> <td> 0.000</td> <td>    0.253</td> <td>    0.306</td>\n",
       "</tr>\n",
       "<tr>\n",
       "  <th>month_Jul</th> <td>    0.5793</td> <td>    0.013</td> <td>   43.365</td> <td> 0.000</td> <td>    0.553</td> <td>    0.606</td>\n",
       "</tr>\n",
       "<tr>\n",
       "  <th>month_Jun</th> <td>    0.4754</td> <td>    0.013</td> <td>   35.595</td> <td> 0.000</td> <td>    0.449</td> <td>    0.502</td>\n",
       "</tr>\n",
       "<tr>\n",
       "  <th>month_Mar</th> <td>    0.3871</td> <td>    0.013</td> <td>   29.007</td> <td> 0.000</td> <td>    0.361</td> <td>    0.414</td>\n",
       "</tr>\n",
       "<tr>\n",
       "  <th>month_May</th> <td>    0.3533</td> <td>    0.013</td> <td>   26.458</td> <td> 0.000</td> <td>    0.327</td> <td>    0.380</td>\n",
       "</tr>\n",
       "<tr>\n",
       "  <th>month_Nov</th> <td>    0.1439</td> <td>    0.013</td> <td>   10.758</td> <td> 0.000</td> <td>    0.117</td> <td>    0.170</td>\n",
       "</tr>\n",
       "<tr>\n",
       "  <th>month_Oct</th> <td>    0.2875</td> <td>    0.013</td> <td>   21.496</td> <td> 0.000</td> <td>    0.261</td> <td>    0.314</td>\n",
       "</tr>\n",
       "<tr>\n",
       "  <th>month_Sep</th> <td>    0.4255</td> <td>    0.013</td> <td>   31.830</td> <td> 0.000</td> <td>    0.399</td> <td>    0.452</td>\n",
       "</tr>\n",
       "</table>\n",
       "<table class=\"simpletable\">\n",
       "<tr>\n",
       "  <th>Omnibus:</th>       <td> 0.334</td> <th>  Durbin-Watson:     </th> <td>   0.648</td>\n",
       "</tr>\n",
       "<tr>\n",
       "  <th>Prob(Omnibus):</th> <td> 0.846</td> <th>  Jarque-Bera (JB):  </th> <td>   0.430</td>\n",
       "</tr>\n",
       "<tr>\n",
       "  <th>Skew:</th>          <td>-0.108</td> <th>  Prob(JB):          </th> <td>   0.806</td>\n",
       "</tr>\n",
       "<tr>\n",
       "  <th>Kurtosis:</th>      <td> 2.843</td> <th>  Cond. No.          </th> <td>6.59e+19</td>\n",
       "</tr>\n",
       "</table><br/><br/>Notes:<br/>[1] Standard Errors assume that the covariance matrix of the errors is correctly specified.<br/>[2] The smallest eigenvalue is 2.9e-30. This might indicate that there are<br/>strong multicollinearity problems or that the design matrix is singular."
      ],
      "text/plain": [
       "<class 'statsmodels.iolib.summary.Summary'>\n",
       "\"\"\"\n",
       "                            OLS Regression Results                            \n",
       "==============================================================================\n",
       "Dep. Variable:                  LogPs   R-squared:                       0.989\n",
       "Model:                            OLS   Adj. R-squared:                  0.988\n",
       "Method:                 Least Squares   F-statistic:                     912.7\n",
       "Date:                Wed, 19 May 2021   Prob (F-statistic):          7.45e-121\n",
       "Time:                        01:16:58   Log-Likelihood:                 239.70\n",
       "No. Observations:                 144   AIC:                            -451.4\n",
       "Df Residuals:                     130   BIC:                            -409.8\n",
       "Df Model:                          13                                         \n",
       "Covariance Type:            nonrobust                                         \n",
       "==============================================================================\n",
       "                 coef    std err          t      P>|t|      [0.025      0.975]\n",
       "------------------------------------------------------------------------------\n",
       "Intercept      4.3721      0.011    387.168      0.000       4.350       4.394\n",
       "TP             0.0132      0.000     33.877      0.000       0.012       0.014\n",
       "TPSQ       -2.148e-05    2.6e-06     -8.265      0.000   -2.66e-05   -1.63e-05\n",
       "month_Apr      0.3557      0.013     26.649      0.000       0.329       0.382\n",
       "month_Aug      0.5700      0.013     42.659      0.000       0.544       0.596\n",
       "month_Dec      0.2580      0.013     19.276      0.000       0.232       0.284\n",
       "month_Feb      0.2571      0.013     19.265      0.000       0.231       0.283\n",
       "month_Jan      0.2793      0.013     20.936      0.000       0.253       0.306\n",
       "month_Jul      0.5793      0.013     43.365      0.000       0.553       0.606\n",
       "month_Jun      0.4754      0.013     35.595      0.000       0.449       0.502\n",
       "month_Mar      0.3871      0.013     29.007      0.000       0.361       0.414\n",
       "month_May      0.3533      0.013     26.458      0.000       0.327       0.380\n",
       "month_Nov      0.1439      0.013     10.758      0.000       0.117       0.170\n",
       "month_Oct      0.2875      0.013     21.496      0.000       0.261       0.314\n",
       "month_Sep      0.4255      0.013     31.830      0.000       0.399       0.452\n",
       "==============================================================================\n",
       "Omnibus:                        0.334   Durbin-Watson:                   0.648\n",
       "Prob(Omnibus):                  0.846   Jarque-Bera (JB):                0.430\n",
       "Skew:                          -0.108   Prob(JB):                        0.806\n",
       "Kurtosis:                       2.843   Cond. No.                     6.59e+19\n",
       "==============================================================================\n",
       "\n",
       "Notes:\n",
       "[1] Standard Errors assume that the covariance matrix of the errors is correctly specified.\n",
       "[2] The smallest eigenvalue is 2.9e-30. This might indicate that there are\n",
       "strong multicollinearity problems or that the design matrix is singular.\n",
       "\"\"\""
      ]
     },
     "execution_count": 213,
     "metadata": {},
     "output_type": "execute_result"
    }
   ],
   "source": [
    "Model_full.summary()\n",
    "\n",
    "# from r square value this seems good model\n",
    "# we have used all dummy variable \n",
    "# but even after removing the one dummy variable the r square and r did not change \n",
    "# so keeping all variable in the model"
   ]
  },
  {
   "cell_type": "code",
   "execution_count": null,
   "metadata": {},
   "outputs": [],
   "source": []
  }
 ],
 "metadata": {
  "kernelspec": {
   "display_name": "Python 3",
   "language": "python",
   "name": "python3"
  },
  "language_info": {
   "codemirror_mode": {
    "name": "ipython",
    "version": 3
   },
   "file_extension": ".py",
   "mimetype": "text/x-python",
   "name": "python",
   "nbconvert_exporter": "python",
   "pygments_lexer": "ipython3",
   "version": "3.9.4"
  }
 },
 "nbformat": 4,
 "nbformat_minor": 4
}
