{
 "cells": [
  {
   "cell_type": "code",
   "execution_count": 3,
   "metadata": {},
   "outputs": [],
   "source": [
    "# Sentiment analysis from the data ibtained from any Website\n",
    "\n",
    "# Some of the data is not allowed on amazon for webscraping\n",
    "# we are using IMDB reviews for teh movie 2046 by Wong Kar Wai"
   ]
  },
  {
   "cell_type": "code",
   "execution_count": 2,
   "metadata": {},
   "outputs": [],
   "source": [
    "# Loading required libraries \n",
    "\n",
    "import requests   \n",
    "from bs4 import BeautifulSoup as bs \n",
    "import re \n",
    "import nltk\n",
    "from nltk.corpus import stopwords\n",
    "import matplotlib.pyplot as plt\n",
    "from textblob import TextBlob \n",
    "from nltk.sentiment.vader import SentimentIntensityAnalyzer"
   ]
  },
  {
   "cell_type": "code",
   "execution_count": 3,
   "metadata": {},
   "outputs": [],
   "source": [
    "# defining vader sentiment function .\n",
    "\n",
    "def get_vader_sentiment(review): \n",
    "  \n",
    "    sia = SentimentIntensityAnalyzer()\n",
    "    \n",
    "    analysis = sia.polarity_scores(review)\n",
    "  \n",
    "    if analysis[\"compound\"] > 0: \n",
    "        return 'positive'\n",
    "    elif analysis[\"compound\"] < 0: \n",
    "        return 'negative'\n",
    "    else: \n",
    "        return 'neutral'"
   ]
  },
  {
   "cell_type": "code",
   "execution_count": 4,
   "metadata": {},
   "outputs": [],
   "source": [
    "# assigning imdb  website url to url \n",
    "\n",
    "url = 'https://www.imdb.com/title/tt0212712/reviews?ref_=tt_ql_3'"
   ]
  },
  {
   "cell_type": "code",
   "execution_count": 5,
   "metadata": {},
   "outputs": [
    {
     "name": "stdout",
     "output_type": "stream",
     "text": [
      "200\n"
     ]
    }
   ],
   "source": [
    "# getting htm from website using rquests\n",
    "\n",
    "response = requests.get(url)\n",
    "print(response.status_code)"
   ]
  },
  {
   "cell_type": "code",
   "execution_count": 6,
   "metadata": {},
   "outputs": [],
   "source": [
    "# create soup object using bs4 to iterate over the extracted content \n",
    "\n",
    "soup = bs(response.content,\"html.parser\")\n"
   ]
  },
  {
   "cell_type": "code",
   "execution_count": 7,
   "metadata": {},
   "outputs": [
    {
     "data": {
      "text/plain": [
       "[<div class=\"text show-more__control\">2046 was directed by Kar Wai Wong, who also directed In the Mood for Love. This film is also lyrical, deliberately paced, and very romantic.<br/><br/>Without giving too much away, the film takes place in Hong Kong and Singapore in the 60's. The main character, Chow, is a writer and womanizer. Part of the story takes place in his work, a science fiction tale called 2046. <br/><br/>The story is told out of sequence, with past and present jumbled. In a clever use of irony, we gradually understand that the future is being used to tell the past. Some scenes are presented early, in a way that is confusing until the context is presented later.<br/><br/>There are 3 female characters who are in his life, and the story is segmented accordingly.<br/><br/>The cinematography is beautiful. Interestingly, Wong uses 3 colors nearly exclusively: Blood red, sea green, and yellow. Sometimes he will use light to make those colors stand out, other times it is the objects themselves which are in that color.<br/><br/>I would characterize the story as one of love and loss. There is one poignant scene where, after he realizes what has been happening, he states that timing is crucial in love.<br/><br/>The film is well acted, the characters are understandable if not necessarily ones we can identify with, and the story gradually allows itself to be revealed, a peek here and a peek there, until all the pieces fall into place.<br/><br/>Turn off the lights, cuddle up with a glass of wine, and see this one. Well worth it.</div>,\n",
       " <div class=\"text show-more__control\">Review: 2046 (2004) By Ken Lee<br/><br/>Several years in the making and highly anticipated, _2046_ (2004) should pacify director Wong Kar Wai's fans, at least, for its end-of-an-era feel and look. At its core, this is a decidedly (or deceptively) simple movie, in spite of its fractured and non-linear narrative. It tells the tale of an emotionally wrecked man, Chow Mo Wan (played by Tony Leung), a reprised character from Wong's critically acclaimed earlier oeuver, _In the Mood for Love (2000)_, and the many beautiful women he keeps and fails to keep, in a time-space continuance that is laden with sepia-tinted memories: a monologue, if you will, of Chow's torrid love affairs, love spats, and the ensuing heartbreaks resulting, no doubt, from the pangs of a failed liaison Chow is trying to escape. It'd appear that the failed relation with Su Lizhen (Maggie Cheung) in _In the Mood for Love_, who has a \"special appearance\" in this film, has changed Chow irrevocably, which is key to understanding Chow's troubled soul. <br/><br/>But it is not a sequel necessarily, per se, to _In the Mood for Love_. This film can still be watched on its own, though it'd certainly help if you could link moments in _2046_ to the director's earlier works, for it's laden with jumbled continuity (take the character of Lulu, for example, first seen in _Days of Being Wild (1991)_), hidden meanings (read: Neo-Godardian) and other fun stuff, sorta an insider's joke, if you dig such esoteric things. But I digress. And it's been said that this is a culmination of all the previous filmic experience of director Wong (bordering on narcissism); hence its \"end-of-an-era\" feel and look is duly appreciated and a point well taken.<br/><br/>In _2046_, Chow's isn't an easily likable character owing to the frailty and the vagaries of his own personal emotions and peccadilloes, but that makes him only human and real, and his character, believable. Take the following exchange:<br/><br/>Su Lizhen (Gong Li) to Chow Mo Wan (Tony Leung): Do you know my past?<br/><br/>Professional gambler Su (she who is of the same name as that of Maggie's character in _In the Mood for Love_) asked Chow, dissonantly, questioning the latter essentially whether there is a future for the both of them, if he cannot forget his past. And it's for the same reason, or so we're led to believe, that Bai Ling (Zhang Ziyi) is left devastated, as Chow cannot treat her any differently from the scores of other women he's seeing; hence eliciting the following memorable line from Bai which I'm sure speaks to most of us one way or another:<br/><br/>Bai Ling (Zhang Ziyi) to Chow Mo Wan (Tony Leung): You may not like me. But I'll like you all the same.<br/><br/>What fools we are made by love. :)<br/><br/>Contrasting Chow as a man who dwells in the past and in need of closure to move on, Tak (Kimura Takuya) isn't ambiguous when it comes to matters of the heart. <br/><br/>Tak (Kimura Takuya) to Wang Jingwen (Faye Wong): I do not know what your answer may be. (I dread to know.) But I need to know.<br/><br/>Here is a man who is not afraid to love and says his love. And he needs to know if his love is unrequited. And in seeking happiness, the message seems to be that there is no other way. Now why does this remind me of all the sorry tales with which we are all-too-familiar with men-who-cannot-commit-or-decide? :) And so the film is thusly replete with impressions of repeated variations of the same theme: the pointlessness of returning to the past. Which is why we have the following line:<br/><br/>Bai Ling (Zhang Ziyi) to Chow Mo Wan (Tony Leung): Why can't it be like before? (The same reason why nobody returns on the 2046 train, in Chow's sci-fi novel of the same name. Seen in this light, it is also a double-entendre for director Wong: Why can't this film be like the one before in the form of _In the Mood for Love_? Where does he go from here?)<br/><br/>Those familiar with Wong's earlier works will notice his signatures throughout: quick cutting, slow motion, fast motion, freeze frames, black and white, tilt shots, color filters, neon-sign lighting, aided ably by three able cinematographers. Production value of _2046_ is expectedly top-notch. Music by Shigeru Umebayashi is haunting and sets the right mood. Zhang Suping (William Chang Suk Ping) does a wonderful job in creating an enrapturing atmosphere set in the late '60s.<br/><br/>How great it is, in an otherwise desolate world of unease, vulnerability, hopelessness, and pathos, we have directors such as Wong to feast our senses. Highly recommended.</div>,\n",
       " <div class=\"text show-more__control\">I love story with impact, new ideas and rich characters. I love exploring the mechanics of the thing. There are few films like 2046 proposing radical new ways of vicariously experiencing time and place. Easily misunderstood or confusing, it can be. Understanding and completing the 'story' in these kinds of films doesn't occur in the films themselves. We complete them in the realm of reflection, experience, and assumptions made in how to reflect, collect, categorize, and morph them with our own life stories. Sometimes these films are just a call to empathize with the filmmaker.<br/><br/>Wong Kar Kai is a filmmaker who calls for a personal empathy. He works to capture all the unique dynamics of romance, and how they bend our sense of time and space.<br/><br/>He turns his camera every which angle to try and find new vocabulary for telling a story. Well, he doesn't tell stories, he asks whether stories are found in relationships. We get pieces of stories on top of hidden stories, our focus shifts from \"story\" to emergent feelings out of the glimpses. <br/><br/>This is sophisticated, and scary when unprepared for the exotic nature. We want the familiar, but are given delicately meandering puzzles, opaque hints at beginnings, middles, and endings. Just like we don't always know at what point our own stories are unfolding. But we know the emotional states as they are lived.<br/><br/>Since 2046 lacks many standard cadences, it is a struggle to follow the statement through the movements. These are not even vignettes, these are a seamless series of leaps that push and pull like the emotions of day to day life. They have an indecisive flux we hope is asymptotically reaching a conclusion, but they just keep coalescing and spilling over into the imagined future from where no one has yet returned. Once we think we have moved beyond the past do we then realize that we create an unknown future by attempting to reconstruct the past in the present.<br/><br/>And so the main character is a writer of 'fiction' (this very movie) who through the process of embedding real life circumstances into his science fiction he also tries to determine if there is a destination this is all heading. 2046 is a place you visit to relive unchanging memories so that you will never change. Alternately, 2046 is also a time existent only within a science fiction novel when people will access substitute lovers without the haunts of what broke them in the past. So they think.<br/><br/>He has already been damaged by the loss of an impossible standard that cannot be met by another (see In the Mood for Love first!). So in his novel, lovers become characters. Feelings become fictional ornamentations in the future. In the present, he cannot connect with the women who come and go. In the fiction, the lack of connection is simply a matter of technological limitations.<br/><br/>Think about what happens in the aftermath of a failed relationship or a missed opportunity. We may grieve, but also sometimes we obsessively construct a future fantasy based on what should have happened if things had gone right; if only some vital detail didn't change things how it did. We inhabit that imagined future and interact with our counterpart ghost, making plans and times and places accordingly. We might use this process as a shield and a warning. Or it sabotages, taking on a life of its own as a mental blueprint, directing the actual present and perceptions of new companions.<br/><br/>Lush, poetic cinematography fills each second of this film to great mood inducing effects. In 1960's Hong Kong, where the bulk of the events take place, the dynamics of romantic encounters hide in unassuming corners of that society, only brought to light by looking at the normal world in very abnormal ways. One almost gets the impression that set pieces and abstract designations were literally dreamed up. The camera often cramps our frame of vision. Various off-center closeups which in a sense shut out the outside world, but paradoxically bring it all in to bear. There are many places where the camera does not seem to have a good shot of a character or an event, we the viewers were just unlucky to miss the opportunity of getting the full revelation of something.<br/><br/>And it frustrates; we want to know everything but get very little by way of visual exposition. We are forced to work on the clues, the voice overs, the symmetrical accidents in different centuries and different countries. This is not analogous to idly putting together a complex puzzle set, this is reconstructing a mystery while at the same time being on the verge of shedding tears at the quiet understanding that it isn't a mystery, it's life with a character who mediates between reality and fantasy to deal with it all. I know the kinds of things this film is about, but I've never looked at them from this stance before. As is often the case, the artist (here the writer/filmmaker) is just the one who experiences what the rest of us experience and talks about its secrets rather than conceals them.<br/><br/>See this film if you want to know how it's possible to visually show the invisible, inner turbulence and romantic visions that tend to hide from the outside world. On the whole, 2046 weaves in the present a future fiction invaded by the past, bred by the throes of confronting the human faces of opportunities that appear, disappear, reappear and fade and collapse into each other.</div>,\n",
       " <div class=\"text show-more__control\">There is a strong tragic feeling the film has given me. The destiny of Tony Leung is sad, trapped in the past and the future, trying to escape the present time. There are certain scenes and shots imposing this sad sentiment. The still-picture-like shooting blended with heart striking music has created a space where audiences can go in and feel it. Coincidentally, I have seen this kind of shots in Godard's 'Ten Minutes Order' short film - a sigh of life. I remember once in an interview Wong Kar Wai admitted he was much influenced by Godard. I really see it in this film.<br/><br/>The interesting thing of this film is the director has gathered different elements from his previous films. Carina Lau is the same character she played in 'The Days being Wild', Faye Wong is from 'Chung King Express', Tony Leung has adopted some personalities of the character in 'Happy Together'; and the futuristic story '2046' is same as 'Fallen Angels', particularly the absurdity. It's like a retrospect of the director's previous works viewed at another angle.<br/><br/>The main part of the story where Tony Leung gets caught with Zhang Zi Yi, is the negative contrast for Tony Leung's tragic destiny. His true love, no matter Maggie Cheung, Gong Li or Faye Wong, is only in the past or future. What he has at present is something he doesn't like, trying to escape. In 'In the Mood for Love', he doesn't have the courage to take the love with Maggie Cheung because they both are married. Now in 2046 both Zhang Zi Yi and he are singles but still he doesn't have courage to take it because he is not in the mood for love again, instead he chooses to start an indecent relationship with her. <br/><br/>The film carries the same symbol as 'In the Mood for Love'  limited space in reality. The love between Maggie Cheung and Tony Leung started in those two adjacent apartments, now Zhang Zi Yi and Tony Leung live in the small hotel in two adjacent rooms, start their relationship. Life repeats once again in the similar environment, the only difference is the choice of Tony Leung. The symbol of 'limited space in reality' is interpreted, as an element constituting the routine of life; the attitude and choice of a person in this routine is the final ingredient making up the tragic ending. <br/><br/>Apart from the tragic feeling, the film imposes time and space metaphor. Tony Leung basically lives in the past and future with all his love and sentiment put in these two non-existent time/space. He has no present life in this sense. The 2046 space, though not realistically existing in the film, is actually somewhere in the mind of people. Everyone in the film has such a space in his/her mind, and so are we all. We don't recognize it only because we don't want to admit it.<br/><br/>A film about the past, future and present is certainly not easy to master. Although the futuristic part is too robotic, the overall impact the film has is significant and remarkable. Not only Tony Leung chooses to escape the present time, the film doesn't pass through the present age either. It's another metaphor that we all dwell on the past and future trying to escape the present age, forget it as much as possible, for it's too bitter to taste and think about.<br/><br/>Someone chooses to dream about the future and remember the past so sweetly passing everyday. Someone does it in an opposite manner. It could be the piece of mind, or it could be the moment that determines what it would be. What I see in 2046 is a piece of tragic mind in a sad moment.</div>,\n",
       " <div class=\"text show-more__control\">I went to watch 2046 after reading millions and millions of interviews and reviews... seriously, it was really difficult to keep an open mind about a movie as talked about as this... imagine 5 years of anticipation.<br/><br/>I started watching trying my very best to keep an open mind, but after a while... i realize i din have to, gradually, my mind just goes on this journey with the story, gone were the reviews and interviews and comments. During the movie, i did not think about anything else except wat was happening in the movie. There is so much in this movie that i think i could write a novel about it.<br/><br/>This movie is about perceptions and memories. how a memory can dictate the way a person lives his or her life. The stories of the many girls are seen thru the eyes of the charismatic and talented Tony Leung. There are many girls in his life. All these girls have a story, a story as seen and perceived by Zhou Mu Yun. <br/><br/>The first story would definitely be the story of the first Su Li Zhen (Maggie Cheung) and Zhou Mu Yun, this is the story that shaped Zhou's life, even though in this movie, Maggie only appears in a few shots. but the basis is all laid out in \"In the Mood for Love\". <br/><br/>The second story is lulu's (Carina Lau) story. The meeting described by Zhou took place in the time span after \"Days of Being Wild\". I find it such a pity that Wong Kar Wai edited out so much of Lulu's story. I would really wish to have seen more of it.<br/><br/>Then there is the story of the second Su Li Zhen in Singapore. The mysterious woman who wears one black glove. Zhou finds new solace in her. Using her to fill up the gap left by the first Su.<br/><br/>The saddest story in in movie will have to be Bai Yun's(ZHang ZiYi). She definite loves Zhou with all her heart, but he treats her like a pro. At some point in the movie, i wanted to slap both Bai and Zhou. Bai for being so lovelorn, and Zhou for being so stupid, the girls he love wouldn't leave with him, now the girl that loves him so much, he refused her over and over.<br/><br/>The last, and definitely my favourite story would definitely be Wong Jing Wen's(Faye Wong), any mandarin speaking person would know that Wong Jing Wen is the moniker Faye Wong went with when she first started singing. Anyway... all these while i never thought Faye could act, but i guess with no anticipation, there wont be disappointment. And Faye proved that her portrayal of the hotel proprietor's daughter. Wong is the only woman in the movie that is not romantically linked to Zhou, although it was hinted that he was in love with her. Wong and her Japanese boyfriend(Takuya Kimura) were in love but Proprietor Wong refused to even meet the boy. Undaunted Takuya asked Wong to leave with him, but her refusal to give him an answer span the very basis of 2046, which Zhou aptly named \"2047\" in the movie. *grinz*<br/><br/>*Self-Indulgent Note* I am the Biggest fan of the late Jeanette Lin Tsai from the 50's Cathay era. And i have always felt that Faye looks a whole lot like her. But i will be kissing the ground that Wong Kar Wai step on, because he managed to capture Jeanette Lin's essence in Faye. Unwittingly no doubt, but it helped me indulged in a memory that i wish to forever keep in 2046.</div>,\n",
       " <div class=\"text show-more__control\">2046 is more like the sequel to In The Mood for Love. In the latter mentioned movie, Chow was an innocent young man caught up in a complicated affair with Maggie Cheung after both of them discovered that their respective spouses were cheating on them with each other.<br/><br/>The movie ended with a desolate Chow trying to put his feet on the ground again after losing Su Lizhen(Maggie Cheung).<br/><br/>I did not realize that 2046 was a sequel only until i was about 1/4 into the movie. His fate with women is not too good eh? Either he plays them around like some game or he falls in love with the women he cant have. Yet he's not out of league when he fell for Faye Wong's, Gong Li's, or Maggie's character. <br/><br/>Perhaps that's because after losing Su Lizhen in the first movie, 2046 only shows how despondent a man can be after being rejected in love. in the beginning of 2046 he said: 'he started playing the game and had many one night stands, after all, how many 'once-in-a-lifetime' can you get?' With every woman he got involved in from Bai Ling to Wang Jing Wen, he was just attracted to the bits that resembled his Su Lizhen. I don't think he was actually in love with Wang Jing Wen, just in love with the fact that she can conjure up the memories of him writing with Su Lizhen in the hotel (in the first movie).<br/><br/>His fiction of 2046 being played out directly in the movie was just a further metaphor that was necessary for a complicated man like him to find out what he was after. In the ending of 2046, we see him, drunk and alone, riding home in a taxi. Where are all the women in his life?<br/><br/>Although the show tended towards dragginess at times, the screenplay was well written, the cast displayed impressive acting skills, the lighting's, stage settings and soundtrack were unique though not exempting In The Mood for Love. You can well say that Wong Kar Wai is a Tarantino in the Chinese Movies circle.<br/><br/>My advice is to watch In the mood for love and 2046 back to back. Perhaps after that, the mystic behind the latter will fade and the real plot comes out.</div>,\n",
       " <div class=\"text show-more__control\">A journalist quits his job, when his novels became top-seller. To be able to finish his last novel he needed inspiration, so he revisits a cheap motel which he has lived bittersweet memories with his ex-love, 2 years ago in 1967. The story takes place in 1969 in the same motel, once the novelist decided to stay there.<br/><br/>The novel he was writing has been a science fiction at first. Whereas, he's driven by a serendipity that the name of this novel \"2046\" is also the room number in which he and his ex has shared a love. Into that room, now a harlot settles in. He enriches his novel by putting himself as the true love of this harlot staying in room 2046. As destiny would have it, when the harlot meets him she really falls in love with him. By courtesy of her swallowing his bait, the novelist subjoins an erotic component into his novel. Let's gather together the first phase of the movie: We have one man and two woman. First woman left him 2 years ago, and he is still in love with her. Then at the present time, the second woman falls in love with him.<br/><br/>The second phase is the vengeance of the novelist from the woman he loved in 1967. This phase forms the essence of the novel: The future in the year 2046. Future is under the control of dreamers. Everybody who can dream and who can love, can travel into 2046 deep in their heart to recapture their lost memories. The novelist never goes there, 'cause he knows that if he goes once, he would never return to the present time, and would stay stuck in the future, living in the memories. Instead of making himself gone, he sends her inconstant love into 2046 as an android woman. Living as an android, the woman doesn't have a heart. But a young man falls in love with her. She yearns for him so much, but she could never express her feelings nor the look in her eyes could ever change; since she has no heart no more. She realizes that she deserves to be loved, and denies herself. She begins suffering of the love she remained lighthearted to the novelist 79 years ago. Witnessing her repentance, the novelist forgives her love; and wants her back at the present time in 1969.<br/><br/>At the last phase the novelist loses himself before his love finds him. Because his novel concludes to an ending which he doesn't have the love for her true love anymore, he depletes his inspirations to finish his novel without the memories of his past love. When she returns to him, he stands indifferent. <br/><br/>An amazing story layering ahead, including tons of short stories inside, and the director Wong Kar Wai uses a giddy and ravishing cinematography for use of symbolism. It's the viewers' duty to solve the puzzles of the storyline, to match the short stories with their attributions and to set in order of the straight-going novel versus unsteadily progressing movie; which altogether I shared with you above.<br/><br/>Both director and the writer of 2046, Wong Kar Wai presents a novel adaptation in the movie, and a movie adaptation in the novel; in conclusion a mixture of two arts on silver screen.</div>,\n",
       " <div class=\"text show-more__control\">Kar Wai Wong is more than a film director (though he is one of the finest directors working today!): he is a visual, poetic, creative and daring artist capable of more cinematic miracles in one isolated film than most directors achieve in a lifetime. '2046' is a visually stunning, intellectually challenging, emotionally charged view of love and lust in today's kinetically dysfunctional society.<br/><br/>There is no one way to interpret this non-linear film and therein lies much of its rewards. The main character Chow (Tony Leung) is a writer and a libertine who has pushed his vacuous life around with his hormones and though he has had many affairs he has failed to find the illusory 'love'. He has lived in Singapore and Hong Kong, makes his living writing columns of newspapers while his novels formulate in his mind. One of his novels is called '2046', the title based on the room number in a hotel where he witnessed a bizarre incident involving a gorgeous woman, and resulted in his moving into the adjoining room 2047 where is meets the hotel manager's daughter in love with a Filipino Japanese man her father loathes. He desires this unattainable woman and fuses her with a fictional 'android' in his novel which now uses '2046' as a year or time or place where people go to find memories. He continues to encounter women for whom he desires more than surface relationships (there is a stunning lady gambler cameo who represents everything he lusts and longs for, etc) but he is never able to find his tenuous ideal: his memory is his only source of consolation.<br/><br/>The actors in every role include many of the finest actors available: Li Gong, Ziyi Zhang, Carina Lau, Maggie Cheung, Takuya Kimura, Chen Chang, and of course Tony Leung. But it is Kar Wai Wong, the writer, director, choreographer, colorist, visionary that makes this excursion into the interstices of the mind/imagination so overwhelmingly satisfying. Whether the viewer elects to view the story as a continuation of the director's previous films, or as reality vs memory, fiction vs imagination, sci-fi excursion, or simply a plethora of vignettes about the challenges of finding love in a world geared toward instant gratification, this is a magnificent achievement. In many ways the sound track could be turned off (though the beautiful musical score by Peer Raben and Shigeru Umebayashi with a lot of help from Maria Callas! would be missed), and the inventive cinematography and visual image manipulations by Christopher Doyle, Pung-Leung Kwan and Yiu-Fai Lai such as the constant dividing of the screen into triptychs and diptychs would remain some of the most beautiful photographic images on film.<br/><br/>This is not an easy film to follow and it is most assuredly one that will grow in importance with repeated viewings. The comparison with Alain Resnais' 'Last Year at Marienbad' suggests its potency. But free the mind and enter into the world of '2046' for one of the most satisfying cinematic achievements of the recent past. Very highly recommended. Grady Harp</div>,\n",
       " <div class=\"text show-more__control\">Please note that this film is almost universally acclaimed so feel free to disregard my comments:<br/><br/>2046 is the story of a man who is haunted by a great unconsummated love in his past. It has eaten away at him and he is left unhappy and soulless. He engages in a series of meaningless sexual affairs to try to free himself from his memories or perhaps to find a similar love.<br/><br/>The film took 5 years and many revisions to make and this shows. The circular meandering plot is frustrating. The action moves back and forward in time and one place is as empty and soulless as the other. Nothing seems to happen in this overly long film, which ultimately disappoints.<br/><br/>Dáithí</div>,\n",
       " <div class=\"text show-more__control\">I read different takes on 2046 and its connection to its predecessor by writer/director Wong Kar-Wai, In the Mood for Love. Some said you had to see it before 2046, although the general consensus was that the unusual romanticism and little details in both films, and actors like Tony Leung and Maggie Chung, made the only real connection(s) (Wong himself has said ironically to see 2046 before In the Mood for Love). It seems, after seeing the film, that he was correct; I had seen half of In the Mood for Love a while back, and I did get an idea of what I might expect, but the fact is is that 2046 really does work fine as a film on its own terms. It's a story that at first seems like it will be style over substance, and at times it is, but the substance is usually very intriguing, and keeps attention. It isn't a perfect film, and towards the end it starts to lag, but such criticisms are made up for by the attributes.<br/><br/>We learn from the narrator and lead character, Chow (Leung), that there is a place, if not a time, called 2046, where people don't leave unless they fall in love. But, for the bulk of the film, the film is not set in any kind of futuristic setting that might be assumed on the outset of going into the film. It's set in late 60's Hong Kong, where Chow writes lurid fantasy stories. He takes room 2046 after seeing a woman, Su (Li Gong), in the room. He feels that this place is where he, like others, can go to \"lose memories\" (\"All memories are traces of tears\", a title-card reads), which spurs him on the start writing a sci-fi novel with the room's title. <br/><br/>During his stay, he meets two women that effect him: an abused girl, at first acting aloof, Lulu/Mimi (Carina Lau), leaves and the later comes back in the film as a kind of writing assistant for Chow. The more significant woman, however, is in the form of call-girl Bai Ling (Zhang Ziyi, a woman so gorgeous it borders on the unreal), who like the others takes room 2047, and becomes Chow's \"drinking buddy\". But this soon turns to playfulness, to a side affair. Although there is much else that goes on in the film, this has some of the best material, with wonderful dialog and style giving room for perhaps th best performance I've seen from Ziyi yet.<br/><br/>This is not all to the film, though it could've been and been as successful. The women in Wong's films, like with Hitchcock or even Antonioni or Godard (all directors he was obviously inspired by for his own original stance), are crucial to how it turns out. These women express everything Wong desires, abandons, represses, flirts, and acts cool with. They spur on almost every one of his creative pieces (he gives a short story of 2047 to one, who wonders why the ending is so sad, to which he cannot create a happy one), and all of the things he'd rather not forget. Without the strong performances from them all, in particular Ziyi, Lau and Cheung, the drama just wouldn't be there, and certainly the style giving much weight to the film would become over-cooked and pretentious.<br/><br/>The style, of which, was something I took various notes of while I watched, scribbling bits, elements, colors and shots that caught my eyes: the greens in the halls, the brightness of outside on the porch, the black and white scene in the cab (one of my favorites), and of course the futuristic visualization scenes of Chow's own 2046. What's curious about the real sci-fi type scenes is that they make little sense aside from the central point- finding real love and the exile following- but the atmosphere, use of different colors and shots and film speeds (Christopher Doyle, a DP on most of Wong's films, does beautiful work all around) is unique, and basically saves a dramatically empty sequence.<br/><br/>There is also the question of slow-motion, which is used to much more effect than in the previous Wong films I've seen, and if it is over-used. It becomes a distraction only towards the end, when one wishes things were not TOO romanticized, but many times it is affecting, and tries to past the melodrama in some of the (above average) writing. Overall, Wong Kar-Wai displays without a shadow of doubt with 2046 that he is a master of compositions, of moods, and of creating characters that are true to themselves, who feel and love but can't seem to reach for it. But this doesn't make it an 'empty' film. If a scene missteps or something gets irksome with the style, it comes back around at the next minutes.</div>,\n",
       " <div class=\"text show-more__control\">The movie was well above my expectation and definitely worth a wait. Tony Leung plays the same man with \"In the Mood for Love\" but has a different character. The movie is also vaguely related to \"Days of Being Wild\" in 1990, co-starred by Leslie Cheung and Maggie Cheng. All three films are about the mixture of hustle-bustle and weariness of Hong Kong in 1960s.<br/><br/>Tony's performance in this film was again brilliant. Faye Wong performed in WKW film for the first time in 10 years (since \"Chung King Express\" in 1994, also co-starred by Tony Leung) and made this film one of a kind. Mysterious gambler Gong Li was also attractive. Zhang Ziyi gave me a positive surprise. The film's technical level (costumes, music, photography etc.) is also very high. Someone suggested 2004 Cannes Palm d'Or should have gone to this film instead of \"Fahrenheit 9/11\" and now I can totally agree.<br/><br/>The number \"2046\" is the metaphor of Hong Kong's destiny, which implies the last year of status-quo for 50 years guaranteed by Chinese government.</div>,\n",
       " <div class=\"text show-more__control\">I have been looking forward to seeing this film since the day I watched 'In the Mood For Love', and certainly was not disappointed. I have a hard time describing this as a sequel, I would call it more of a companion piece. I think someone could view this with only minimal confusion if they had not seen IMFL, but I recommend that as well.<br/><br/>The film only follows one character from the original, and it completely focuses on his downfall. I get the feeling this was a very hard script for Wong Kar Wai to write, it seemed very personal at times. That said, the script is absolutely brilliant. One moment in particular where Chow returns a line back at one of his many women is especially sad and poignant, really adds a lot of depth to their relationship with a single sentence.<br/><br/>The cinematography and special effects are also beautiful, although I think the trailer plays up the sci-fi element a little too much. It does look great though, and he mimics many shots and setups from IMFL to tie them closer together.<br/><br/>Overall I gave this an 8, the only detractors being a bit of a boring pace at times, and the ending seems to come out of nowhere. Just all the sudden *boom* the end. Still, better than most other films made these days and a definite must see for fans of In the Mood For Love.</div>,\n",
       " <div class=\"text show-more__control\">I believe Kar Wai Wong is one of the greatest directors this planet has ever seen. His ability to bring images and characters together cannot be compared to any other living director. He is original, energetic, and all together poetic with his form and style. Wong's work is what those infamous directors of Hollywood dream about at night. I was impressed with his gripping tale of love in Happy Together and mesmerized by his emotionally draining film In the Mood for Love. Wong is brilliant behind the camera, creating some of the most beautiful visuals ever to grace the silver screen. Alas, I can spend all day here speaking about this master's work, but it doesn't conceal the fact that 2046 was not his best work released. As a man who enjoyed Happy Together and In the Mood for Love, I was expecting nothing short of perfection with this film, yet somehow, I did not get it. I believe I was duped by the marketing behind this film. I must warn others that if you are renting this film expecting a science fiction film, you will be greatly disappointed. I even thought that it would follow a path similar to Blade Runner, but again, I was wrong. After watching 2046 all I could think about was Wong's refrigerator. This film reminded me of all the leftovers in Wong's fridge. If you took all the elements that made his prior films extraordinary and slopped them together on one plate, threw it in the microwave, and watched it cook, than you would be experiencing 2046. This film was nothing more than Wong's leftovers handed to us in hopes we wouldn't see through the charade.<br/><br/>Harsh words, I agree, but I didn't feel the emotional strain, the power of the characters, or the challenge of the story as I did with his prior two films that I experienced. Kar Wai Wong is a brilliant cinematographer, capturing some of the most beautiful images in film, I believe though that he didn't quite know what to do with them all in this film. In 2046, we are handed, nearly pounded down, with image after glorious image of characters attempting to build their lives together. With pastels, blurred backgrounds, and off centered camera angles, Wong has created one of the most beautiful films of 2005! Yet, no amount of beauty can honestly disguise leftovers. Everyone in the house knows what you are serving, there is no need to literally color-coat it. One of the images that annoyed me greatly was that centered around Tony Leung Chiu Wai and Ziyi Zhang in a taxicab after a night of drinking. We even revisit it later in the film, but was annoyed me about this scene is that it is exactly the same scene from Happy Together, nearly cut and pasted onto another film. The final conclusionary remarks of this film were completely reused from In the Mood for Love, while breathtaking in its own sense, it just didn't work for me to have all of these repetitive scenes. I wanted creative Kar Wai Wong, but all I was handed was a poorly spliced reprint of his older films.<br/><br/>Science fiction is a difficult genre to handle. A GOOD sci-fi film is a rarity. 2046 is not a science fiction film. For those considering this film due to the sci-fi press that it received, you will be surely misguided. There are moments in the film that are supposed to be in our future, but they are so poorly crafted that they distract from the already budding story. I believe it is these science fiction \"train\" elements were cheap, dull, and completely underdeveloped. In fact, they stole from the rest of the film. In 2046, it is not uncommon for you to find yourself completely caught up in a character, learning about their mannerisms and challenges, only to be snapped into this random world which trains have apparently become the dominate species. While other praise Wong's work in these moments of the film, I believe them to be very unlike Wong. These paper mache science fiction elements were not the reasons I first fell in love with Wong's work. While changing genres may work well for the likes of Spielberg and Ang Lee, for Wong it doesn't. Wong does better with his character driven stories that are simple, yet beautiful enough to keep your eyes on the screen. 2046 was so poorly developed that sleep seemed like a better option, and I hate to say that about Wong's work.<br/><br/>The characters were decent with the material they were given. Ziyi Zhang gives a Nicole Kidman-esquire performance that should open up more and more doors for her. Her range is amazing, and I think that Wong captured it extremely well. This was less of a character-developed story and more of an actual plot, which is where I believe Wong theoretically shot himself in the foot. Wong need to keep with characters and beautiful scenery and his stories will then just fall into place. I must admit, this was a confusing tale. I was intrigued one minute and befuddled the next. 2046 is not a film for the light of film watchers. It is not your \"date night\" film, but instead one that needs to be watched with microscopes attached to your eyes to ensure that you do not miss any elements. I, a novice film watcher, had trouble following this film. Wong didn't fully have his direction tied on tightly enough with this film.<br/><br/>Overall, I wasn't impressed. I could not watch this film again. I saw what Wong wanted to accomplish with this film, I do not think that he had enough control over the finished product. 2046 reminded me of my first thesis paper. I knew what my thesis wanted to be, but it was buried so deep within my paper that it ultimately ruined the entire body of work.<br/><br/>Grade: ** out of *****</div>,\n",
       " <div class=\"text show-more__control\">Kar Wai Wong is without a doubt, one of the best directors today. That said, with \"2046\" he achieves something of an impressive feat with this film that keeps reminding us of his previous \"In the Mood for Love\", which in comparison, pales next to this new installment of Mr. Wong's take about the life of the character of the previous film. The gorgeous cinematography of Christopher Doyle, Kwan Pun Leung and Yiu-Fai-Lai has a rich texture throughout the film and the haunting musical score by Peer Raben and Shiguru Umebayashi fits the movie like a glove.<br/><br/>Some people commenting in this forum have expressed the view of Mr. Wong's film being futuristic because the way the film starts. But basically, those futuristic sequences last so little on the screen that it might be a misnomer for \"2046\" to be deemed about the future, when in reality we are taken back to the sixties when Mr. Chow is seen so much in love with Bai Ling.<br/><br/>Mr. Wong gives us a vivid account of what the two lovers had together, but he also takes us back when something is revealed about Mr. Chow we never knew about his involvement with SuLi Zheng, the mysterious woman who is lucky in winning for him an enormous amount, but while he falls in love with her, she coolly lets him go.<br/><br/>We are also shown Wong Jing Wen, who Mr. Chow had a passionate love affair with, in the previous film. It appears the involvement they both had is now clearly forgotten, or maybe it wasn't as important as it once appeared to be.<br/><br/>The director's technique calls for an infinite amount of medium shots, usually over the shoulder of the person that listens. As a matter of fact, there is hardly any scenery in the film since most of the action either takes place while the characters are seen in conversation, or in bed where some of the torrid encounters take place. The futuristic scenes seem to be a sort of limbo where the characters, like the beautiful Android, seems to in in a world of her own.<br/><br/>The best asset in the film is the music the director adds to the different scenes. Some of the music is nostalgic, some operatic, or depending on whatever is being emphasized at the moment. The music enhances the action in ways that make the film hard to forget.<br/><br/>The best thing the director has in the film is the enormously talented Tony Leung. Mr. Leung is an actor that is always interesting to see in anything. In this film, Mr. Wong and his main actor show how attuned they both are to their collaboration. Ziyi Zhang is tremendously appealing as Bai Ling, the woman that loved intensely and suddenly finds herself on her own after the affair ended. Gong Li is seen briefly as SuLi Zheng, the mysterious woman with the one black globe he meets in Singapore. Also Maggie Cheung and Carina Lau contributed to the film as the women in Mr. Chow's life.<br/><br/>\"2046\" is a hypnotic piece of film making because the magnificent style which Kar Wai Wong gives to everything in the film to achieve this moody piece that examines love relationships in ways that are seldom seen in the movies.</div>,\n",
       " <div class=\"text show-more__control\">Movies, due to dubbing, are usually late in Germany. While the rest of the world is enjoying, or has finished enjoying their movies, we are still waiting here. Except when it comes to many of the new Asian movies.<br/><br/>2046 was the same. Already released on DVD me and my girlfriend were quite interested in seeing it. Having already seen \"In the Mood for Love\" we were looking forward to something much the same, except hopefully a little faster in pace and emotionally-heated. I thought I was going to be the Hero  renting a romance (which I don't normally go for) but it turned out to be a disappointment.<br/><br/>Perhaps it is not so much the fault of the movie, but of the trailers that lead you to believe that the movie is something that it isn't.<br/><br/>The movie is, like many other films from Kar Wai Wong, a visual masterpiece in my opinion. I was riveted to the images  he is truly a modern painter. This is not to be underestimated. This is enough to get you through the whole movie, despite its crawling pace. Simply for the images I can understand that many viewers would love this movie.<br/><br/>But it takes more then that to make the \"ultimate love movie\" (as it was advertised here in Germany). I found many parts in the movie confusing and mixed up, I got the impression towards the end that the movie might not be in chronological order. If it isn't, then there is much more to investigate for me, if it is, then I have to say that the movie isn't that clear, and that the characters motives and feelings are not always properly portrayed.<br/><br/>If this was a book, I would love to read it. Simply to get into the heads of the characters and find out what they were thinking, what was driving them, and how they were feeling. Perhaps that is what is left out, perhaps that is why we find it so odd here in the West. We are used to romances being opened and voiced, and usually simple. We are not used to people feeling emotions but hiding their motives behind those emotions, which might be more understood in a conservative society such as China.<br/><br/>This is a movie I would love to own, and watch over and over again, just to try to understand if there is any magic hidden that cannot be seen at the first watching. I would not be surprised if that is how it is, but the long dragging scenes might hinder me from sitting though it more then 2 more times, because it drags. Perhaps next time Kar Wai Wong should hire a brutal editor and good writer to get his ideas out, because this movie had greater potential then what it became. Still, for me it gets 7/10 : its far from BAD.</div>,\n",
       " <div class=\"text show-more__control\">\"2046\" is the number of an apartment where a journalist lives. It is also the title of his novel, which takes place in the future. And it is also the last year before the 50-year period the Chinese Government promised to let Hong Kong remain as it is...<br/><br/>Wong-Kar-Wai comes back 4 years after \"In the mood for love\" with another refined and delicate movie, although this one has not the same strength as the previous... Because the director wants to develop too many themes (love, the power of memories, the lack of communication, the importance of living now...). \"In the mood for love\" was maybe more focused on a love story and the impossibility of living it. \"2046\" is a sort of sequel, but we don't understand very well where the director wants to lead us.<br/><br/>Apart from that, the film deserves to be watched because it is original, it explains that we don't have to live the future in putting there the hopes which belonged to the past, otherwise life has a wasted meaning. The film is colourful and cinematography is excellent. Very slow, yes, but a film like this one follow its own poetry, images here are much more important than words.</div>,\n",
       " <div class=\"text show-more__control\">I am a great fan of not only Hong Kong cinema, but Wong Kar-wai in particular. And since this was a follow-up to his marvellous film \"In the Mood for Love\", which ties into the world founded in his elliptical, perplexing 1990 masterpiece \"Days of Being Wild\", the anticipation was high...<br/><br/>Unfortunately, \"2046\" represents a kind of self-implosion for Wong, whose films have always been stubborn in cutting their own path in the face of audience needs and expectations. Now, when he was making films like \"Chungking Express\", which is a film purely for film lovers, he alienated the mainstream while hitting chords with the cine-literate folk who had not had their pretentiousness fed in such ways since the heights of Godard. But \"2046\" sees the man who was once the most exciting film-maker in the world stray into David Lynch territory - not in terms of style, but the fact that he has finally fallen into making a pretentious film for pretentious people.<br/><br/>\"2046\" carries the familiar meditations on lost love and emotional masochism and detachment that are the staples of all of Wong's previous films, but the deliberately confusing structure make this blend of period drama and surreal sci-fi more frustrating than the joyous puzzles he usually presents. In distancing the audience so profoundly, Wong draws attention to the fact that his film is glorifying in its own triumph and importance.<br/><br/>It not only leaves you cold, but furthermore, it results in a film that fades from the memory extremely quickly - not a charge to be aimed at any previous Wong Kar-wai film.<br/><br/>Visually stunning as always, with scenes of real power and poetic insight, \"2046\" is well worth seeing, but does not compare to the other films this director has made.</div>,\n",
       " <div class=\"text show-more__control\">Spoilers<br/><br/>With proliferation of mainstream Hollywood films like Pulp Fiction, Memento, 21 Grams and slightly off-beat flicks like Reservoir Dogs (not to mention Mexican Amores perros, the most brilliant of them all), it would be terribly naïve to assume that an average movie goer 'cannot handle anything but a linear narrative', particularly when Wong Kar-wai's temporal displacement in 2046 isn't that inspired.<br/><br/>With five years' worth of films shot for it, 2046 can probably have more lives than a cat. The Cannes entry is apparently a cut that was done in a hurry. What we see in town today seems decently put together, and quite easy to follow, particularly when the director spares no pain in having first person voice over narration, bringing the whole affair literally close to 'telling a story' as opposed to letting the camera reveal the story to the audience. <br/><br/>The hype about the science fiction element turns out to be just an advertising gimmick. The SF portion of the movie is merely a story within a story, a book that the main character Chow Mo-wan (Anthong Leung Chiu-wai) is writing, something quite commonplace, that you've already seen in too many movies. Stripped of it mystifying aura, 2046 is simply an account of Chow's relationships, some erotic, some otherwise, with a number of women. In the current cut, the episode with Bai Ling (nothing to do with the actress with the same name) is by far most dominating, making Zhang Ziyi the de facto lead actress. The relationship with Wang Jing Wen (which was the name Faye Wong used during the earlier part of her singing career, before she found fame and fortune), played by Faye Wong, is mentor/protegee rather than lovers, as Wang is head over heels with a Japanese boyfriend. The episode with professional gambler Su Li Zhen, played by Gong Li, is the shortest, with a brief mention at the beginning and some ten/fifteen minute development towards the end. It may of course be quite different in an alternative cut. Carina Lau and Maggie Cheung have merely cameo appearances, serving as links to the references mentioned below. <br/><br/>There is a lot of self-referencing to Wong's other movies, in fact so much that it borders on Narcissism. The game of tracking down all the referencing can be endless. For the fun of it, let me offer one that may not be that far fetched. The part about Wang Jing-wen (Faye Wong) changing Chow's story at will is a subtle jab at what happened to Louis Cha (dean of martial art stories, similar to Isaac Asimov being dean of science fiction) when he left the continuing of a story in a daily newspaper to a close friend for a couple of weeks while he himself was on vacation. He came back finding one of the main characters blinded, quite against his original intention.<br/><br/>The artwork, both visual and audio, are there as always. The music bears the mark of painstaking selection. Used most is 'Siboney', liberally used, but not overused. It was also delightful to hear 'Sway'.<br/><br/>Anyway, this is the cut we have been presented with. Personally, I wouldn't mind seeing another cut that has more of Gong Li and Faye Wong and less of Zhang Ziyi. We may well see that in a 'Director's cut' or a DVD version. To those who worship Wong Kar-wai like a demigod, your thundering applause is duly noted. For the rest of us, it's just another movie.</div>,\n",
       " <div class=\"text show-more__control\">Although ostensibly an extension of the story left off from \"In the Mood for Love\"; in effect, 2046 is a retrospective of WKW's past triumphs, bringing associations from his most memorable films and in some way, tying certain loose ends together. We now realise that Tony Leung's cameo appearance at the very end of \"Days of Being Wild\" was actually meant to be Chow Mo Wun post-ITMFL. We realise this from Chow's chance meeting in 2046 with the gorgeous but tragic Carina Lau, who reprised the memorable character Lulu from DOBW. Their brief dialogue shows us that, after all these years, Lulu never really got over Leslie's character despite her name change: Lulu/Mimi in 2046 is but a female version of Leslie, a woman with her heart hollowed out so much by tragedy that her bleak existence is only anaethesized by hooking up with toy boys, precipitating her own untimely, though hauntingly beautiful, murder by a jealous lover.<br/><br/>The DOBW reference also gave us hints about what Chow's character is like in 2046: unlike the restrained Chow in ITMFL whose true feelings for Su could only be told to a hollowed tree, the Chow in 2046 took on Leslie's wild playboy persona because, like Lulu, the only one he ever truly loved is now forever out of reach.<br/><br/>The central narrative then concerns how Chow, having lost his one great love, Maggie Cheung's Su LiZhen, forever search for traces of her in all the women he had met since, and that every woman he came across was weighted against her and found wanting, with the exception of Faye Wong's hotelier daughter character. His infatuation with Faye stemmed from her love of kungfu novels, which brought back tender memories of the times he once shared with Su.<br/><br/>The innocence of Faye's character in 2046 is a throw back to her role in \"Chungking Express\", with the relationship reversed: this time round Tony became the tender guardian. Even though he's quietly fallen for her, Chow didn't want to see Faye's budding romance with Tak go the same way as his with Maggie (his tender, regretful smile when he watches Faye talked on the phone with Tak is one of the many touching moments in the film). Tak's straightforward approach to love also contrasts sharply with Chow's own dithering. When Tak took the guts to question Faye directly about her love, and she poignantly couldn't bring herself to answer, it seems to signify the end of their forbidden relationship. Yet Christmas' eve's phonecall finally brought the two back together, thanks to Chow's direct intervention, who managed to save another couple's fate if not his own.<br/><br/>Meanwhile Chow had hardened to become a standard playboy bastard (echoing Leslie's character in DOBW), whose disregard for women feeds directly from his feelings of loss over Su, as well as vengeance on his previous cuckoldry. His cruel-heartedness is most apparent in his affair with Ziyi Zhang's Bai Ling. Ziyi's stunning performance here proves that she's far more an actress than my previous prejudice credited her for. Ironically, it was Bai's wish to protect herself against heartbreak, by agreeing to Chow's no-strings-attached affair, that results in her undoing: love proves to be no respecter of human resolve and she fell for him in spite of herself. Chow's cavalier attitude towards her was blatant, toying with her feelings just because he could. In Bai's lovelorn eyes, Chow could only see a reflection of his previous impotence, and his rejection of Bai is as much a rejection of his past romantic failures. He wants to prove he's no longer a love's fool, and the price is paid for by Bai's heart-rending devastation.<br/><br/>Yet in spite of himself, Chow could not escape his past even when he's writing a futuristic novel. The dreamlike futuristic sequences (with rare glimpses of Maggie acting as an android alongside Carina and Faye), show people as emotionally-stunted automatons in a train to the future from which there is no escape, reflecting Chow's own bleak emotional landscape. The immense beauty of these sequences is a credit to Cheung Suk Ping and Christopher Doyle. Like the rest of the film, these scenes fuse flawlessly with the evocative scores, offering a sumptuous feast for both eyes and ears. Even though these sequences are almost narratively unintelligible due to the illusive monologue, the haunting music and the surrealistic beautiful imagery express Chow's emotional wasteland much more eloquently than any words could articulate.<br/><br/>So we came to Gong Li's Black Spider, the femme fatale in this tableau of broken women, who captures Chow's attention not only by her mysteriousness, but by the fact that her real name happened to be the same as his beloved. Her coolness and poise is reminiscent of the previous Su. While ambling down a dark alley similar to the one he walked so many times with Maggie's Su, this time Chow eschews his hesitance and grabs Gong's Su for a fiery embrace. Yet despite her obvious affection for Chow, Gong saw through him and could not allow herself to merely be another woman's shadow. Each knew they could only have a chance together if they both let bygones be bygones, but they realised in each others' looks of regrettable yearning, that neither is willing to forget the past, no matter how painful and self-destructive it is to hold on to them. So they parted in the dark alley, echoing the previous partings that Chow had with Maggie. Years later, when Chow tried to look up Gong again, she was, like the other Su, never to be found again.<br/><br/>So much love and loss have been portrayed here with sublime subtlety and verve, I still cannot get enough of 2046 even though I've seen it in the cinema three times, each time relishing the experience of being swept away in its claustrophobic yet radiant, melancholic yet sensual world. This masterpiece deserves repeated viewing to fully appreciate its multi-layered meanings and motifs.</div>,\n",
       " <div class=\"text show-more__control\">If Welles, Tarkovsky and Kurosawa are the three past masters. Greenaway, Medem and Kar- Wai are the three greatest living filmmakers. All three weave incredibly deep and personal stories which bleed into the act of their creating the film. Each create striking images that resonate deeply, far beyond mere metaphor or exposition. Each worry about the tick of lost opportunity.<br/><br/>Each are dangerous filmmakers. All have referenced life in a way that not only includes the reality of the cinematic container, but also their own past projects as part of that reality. In this case, we have not a mere continuation of \"In the Mood,\" we have a container about that container, a story that is about writing and the need to write \"Mood\" coming from the story written within \"Mood.\"<br/><br/>These parallels are multiplied infinitely so that many writers are writing many stories that sum up to where we live. Each writer, each story, each reality is drawn and extended and molded and eventually ruined by love, indeed the inability to truly love  at least to love and write.<br/><br/>These projects aren't stories, but meditations on the food of storyweaving, so they move  the several of them in this film  languorously. Before, he relied on repetition for layering; he also denoted the unframing of reality by having his camera drift from the subject. He was afraid to depict loneliness and the consummate joy of deep sex as partners in color.<br/><br/>That's all gone now. Now we have real encounters, not just longings. Now we have cameras that shift the frame in more creative ways; one almost gets the impression he did the whole project just to be able to explore and master the extremely wide palette he's chosen here. The way shots are cropped so that the scope is more intimate is breathtaking. <br/><br/>And now we aren't served up nuanced repetition. Each event is new. Each explains and opens more questions, while containing the same substance plotwise. Each whispering in the hole is covered by another reality that spins the need for another whisper.<br/><br/>I have a list of films that everyone must experience  its not a matter of mere enrichment but a collective path through which one can become a real human. I restrict entries on that list to no more than two a year and no more than two by any one filmmaker.<br/><br/>This makes the list. Even if you aren't in it for the explicit folding, or the consummate moodbuilding or even the lovely women, you have to appreciate this for its importance in the evolution of editing. How often to you see a film that competently innovates in how images are assembled? There are lots of composition effects I have never seen before, and I study a lot of movies  most of these you might not notice, which is the point. But there's one scene where our hero has an important dinner with a former lover toward the end. The coincidence of images has increased to this point until we have an actual overlapping/sliding. <br/><br/>We now have a new way to dream.<br/><br/>Ted's Evaluation -- 4 of 3: Every cineliterate person should experience this.</div>,\n",
       " <div class=\"text show-more__control\">2046 is complete balls. A film created by an idiot for idiots, find Wong Kar Wai's latest film exactly the same as all of his others - \"beautiful\" cinematography (exactly what you expect when you hire three million-dollar cinematographers) alongside a complete lack of humanity and interest. Calling Wong Kar Wai a hack is an insult to all of the real hacks who are churning out garbage and making a mint from dumb audiences - the real difference is, here, that Wong Kar Wai fans actually believe they're watching something amazing, smart and groundbreaking.<br/><br/>A film for emotionally stunted 15 year olds, the story involves a complete moron whose inability to deal with the women in his life or treat them as actual humans leads him back to a hotel room of emotional significance, in which he proceeds to write a horrible sci-fi story (courtesy of LG!) in attempt to deal with the fact that he's so immature and so pathetic that he can't have any real relationships, only hollow shells because he is human waste.<br/><br/>The film, which drags on for at least 2 1/2 years, chronicles his pitiful communication and 'relationships' in a way so stupid I can't believe that people didn't walk out of the cinema. Take special note of the fact that the Japanese woman living at the same location has a boyfriend - he himself notes this at the beginning - then, later, he can't figure out why she doesn't love him. For almost half an hour he writes his bizarre rubbish about how she's a robot and how robots cannot love, until, shock horror! He realises that she has a boyfriend and actually loves him. It's so completely ridiculous it makes me want to jump in front of a train, and yet romanticised to the extent that people actually buy it as some kind of fantastic art-drama.<br/><br/>This film is made for idiots. Little boys posing as men who fail in relationships just like the protagonist - they're the idiots flocking to this crap. Oh, as well as all of the other Wong Kar Wai fans, who are really beyond hope. Cinema as punishment, or cure for insomnia, 2046 is one of the worst films of 2005.</div>,\n",
       " <div class=\"text show-more__control\">First of all, I'd like to introduce myself: I'm not the kind of guy who likes Hollywood crap. At all. I appreciate quality in cinema, no matter what the genre or the origin country is. I enjoy mainstream flicks like \"X-Men\", slow paced foreign movies like \"Raise The Red Lantern\", dramas like \"Remains Of The Day\", brainy ruminations like \"Dead Ringers\", indie films like \"Happiness\" and plain fun like \"Top Secret\". To put it short: I tend to like quality. No prejudices.<br/><br/>There's, however, one unwritten universal film-making law that has been dramatically overlooked during the production of this movie: don't ever bore the audience. Do whatever you like. Do you wish to make a very slow movie? OK, right, there are a lot of beautiful and interesting slow movies. Do you like long dialogues? OK, perfect, just remember to keep them meaningful and relevant. The list of movie attributes that can be adjusted to avoid yawning in the audience while being true to your work is almost endless, isn't it? Well, \"2046\" managed to bore the hell out of me and forced me to take a look at my watch many more times than it is desirable. In fact, the movie felt like it was endless. 129 minutes? God, it felt like 229.<br/><br/>There are a lot of problems with \"2046\". The first of all, is that this is supposed to be a film about love (somebody please correct me if I'm wrong). I don't know if I'm getting soppy with age, but \"2046\" was cold as ice. The direction is distant. The main character is an irritant tiny man that we're supposed to buy for some kind of heartbreaker dandy. I can't empathize with him. Furthermore, of all relationships (?) presented in the movie, the only one appealing (hotels owner's daughter) is criminally underdeveloped. The story focuses on relations devoid of feeling. But don't think this is a beautiful look on the decadent side of relations between men and women. It isn't, either. It's an unsatisfying middle ground where characters you don't care about just come and go.<br/><br/>So you'll imagine how surprised was I after realizing how many people were praising this movie. Well, not so surprised, but I don't want to be pricky.<br/><br/>People are eulogizing the direction, the lightning and the poetic of the film. Excuse me? 1) With regard to direction: camera angles and rhythm are nothing I haven't seen before; there are occasional beautiful camera settings, but not much more; on the other hand, there is a cumbersome story development (in the most turgid way). 2) With regard to lightning: there is some remarkable use of shadows here and there, and the darkness of the film is nothing magical, it's just darkness; the most effective use of lightning appears inside the \"futurisitc train\", and my jaw didn't drop. 3) With regard to the poetic: the android mini-story does it for me, and the hotel owner's daughter, which I mentioned before, is the real deal in the movie. What a pity it didn't last even 15 minutes.<br/><br/>I really wanted to like this movie in the beginning. Later, I only wanted it to end.<br/><br/>As a last comment, I've been shocked to hear some people say that \"2046\" is the Asian equivalent to \"Lost In Translation\". I see what they mean, but there is an ocean between both movies. An ocean full of true emotion, sense of humor, likable characters, non pretentious style, varied music and endearing happenings.<br/><br/>If you are planning to watch this movie because of the hype, be warned: although you could love it, it might be a long, long, boring trip.<br/><br/>RATING: 2.3</div>,\n",
       " <div class=\"text show-more__control\">In 1966, in Hong Kong, a writer holes himself up in a hotel room and writes an erotic sci-fi novel set in the year 2046 where he is channeling his feelings on past loves and romances that always ended tragically. The central conceit of trying to relive or recreate past emotions to no satisfying end is a powerful one. \"2046\" wants to really make the viewer ache for love lost or unrequited. It does this first with a beautiful soundtrack of classical themes, pop songs (Nat King Cole's rendition of \"The Christmas Song\" is put to especially good use here), and a searing original score. It does it secondly with exquisitely constructed and framed moving images. This is one of those movies where the stills could be sold in fine art galleries.<br/><br/>Unfortunately for all it's finely detailed points, characterization is paper thin, and the futuristic stuff about pretty female androids developing human emotions is as cheesy and silly as it sounds and looks. In the end, I felt no emotional connection to the characters, their stories, and the beautiful images with which they were encased. The mobius dream-like structure (which has been used so well in the movies of Terrence Malick and David Lynch) is wasted on shallow and vague motives and as a result almost lulled me to sleep. The great music is the only thing that kept me awake to enjoy some of the imagery. There's a lot of play with numerology, and I really wanted this to be some artistic statement on the return of power of Hong Kong back to mainland China, but I don't think the film is nearly as deep as it so badly wants to be.</div>,\n",
       " <div class=\"text show-more__control\">Being an avid fan of Wong Kar Wei, I must say that I'm really disappointed with this offering. Very much style over substance and overly long, 2046 could do with a bit more story telling.<br/><br/>None of the stories seem very interesting and one might surmise that Wong has dried up on ideas. The performances were good and the film is visually stunning (as with all works by Chris Doyle). However, it just doesn't move you as much as his previous works. And though there's always some suspicion in previous films of some link or reference to an earlier film (usually Days of Being Wild), this is the only offering where the references are less than subtle.<br/><br/>I'm sure this film will still impress newcomers but for those who have followed him the last 15 years, it's best to lower your expectations.<br/><br/>Johnny To (another HK director) once said that Wong wasn't doing anything new in his films. With 2046, I'm inclined to agree.</div>,\n",
       " <div class=\"text show-more__control\">I know I'm going against the flow but I hated this film. I love Asian cinema, I love gently-paced subtle films, and I love sensuality. I particularly love those things in combination. But I hated this film.<br/><br/>It's not as clever as it thinks it is. I like clever films. But I am irritated by people trying to be clever and failing. The themes hinted at in this film are vague and fantastic. It has a stylistic appearance of being philosophical when actually there is no philosophy behind it, either thought through or felt through. The director shows nowhere near the level of intellectual strength or depth necessary to achieve what the style of the film claims to achieve. It is made in an apparently evocative style but evokes nothing in me but contempt.<br/><br/>Even more irritating is the basic subject matter of the film, which is essentially self-indulgent pretty people whingeing about the side-effects of their over-complicated love lives. Oh, the hardship of having to sleep with yet another gorgeous, sensual young woman after a night of unrestrained drinking and gluttony. I hated this film for much the same reason I have little time for Evelyn Waugh. I have no sympathy at all and I'm not interested. I can see why 2046 would appeal to shallow, self-indulgent, complacent pseudo-intellectuals by gratifying their own precious self-obsession. I'm not one of them.</div>]"
      ]
     },
     "execution_count": 7,
     "metadata": {},
     "output_type": "execute_result"
    }
   ],
   "source": [
    "# using specific html codes extracting reviews from the soup object \n",
    "\n",
    "reviews = soup.findAll(\"div\", attrs={\"class\",\"text\"})\n",
    "reviews"
   ]
  },
  {
   "cell_type": "code",
   "execution_count": 8,
   "metadata": {},
   "outputs": [
    {
     "data": {
      "text/plain": [
       "[{'rev_id': 1, 'blob_sentiment': 'positive', 'vader_sentiment': 'positive'},\n",
       " {'rev_id': 2, 'blob_sentiment': 'positive', 'vader_sentiment': 'positive'},\n",
       " {'rev_id': 3, 'blob_sentiment': 'positive', 'vader_sentiment': 'positive'},\n",
       " {'rev_id': 4, 'blob_sentiment': 'positive', 'vader_sentiment': 'positive'},\n",
       " {'rev_id': 5, 'blob_sentiment': 'positive', 'vader_sentiment': 'positive'},\n",
       " {'rev_id': 6, 'blob_sentiment': 'positive', 'vader_sentiment': 'positive'},\n",
       " {'rev_id': 7, 'blob_sentiment': 'positive', 'vader_sentiment': 'positive'},\n",
       " {'rev_id': 8, 'blob_sentiment': 'positive', 'vader_sentiment': 'positive'},\n",
       " {'rev_id': 9, 'blob_sentiment': 'positive', 'vader_sentiment': 'positive'},\n",
       " {'rev_id': 10, 'blob_sentiment': 'positive', 'vader_sentiment': 'positive'},\n",
       " {'rev_id': 11, 'blob_sentiment': 'positive', 'vader_sentiment': 'positive'},\n",
       " {'rev_id': 12, 'blob_sentiment': 'positive', 'vader_sentiment': 'positive'},\n",
       " {'rev_id': 13, 'blob_sentiment': 'positive', 'vader_sentiment': 'positive'},\n",
       " {'rev_id': 14, 'blob_sentiment': 'positive', 'vader_sentiment': 'positive'},\n",
       " {'rev_id': 15, 'blob_sentiment': 'positive', 'vader_sentiment': 'positive'},\n",
       " {'rev_id': 16, 'blob_sentiment': 'positive', 'vader_sentiment': 'positive'},\n",
       " {'rev_id': 17, 'blob_sentiment': 'positive', 'vader_sentiment': 'positive'},\n",
       " {'rev_id': 18, 'blob_sentiment': 'positive', 'vader_sentiment': 'positive'},\n",
       " {'rev_id': 19, 'blob_sentiment': 'positive', 'vader_sentiment': 'positive'},\n",
       " {'rev_id': 20, 'blob_sentiment': 'negative', 'vader_sentiment': 'negative'},\n",
       " {'rev_id': 21, 'blob_sentiment': 'positive', 'vader_sentiment': 'positive'},\n",
       " {'rev_id': 22, 'blob_sentiment': 'positive', 'vader_sentiment': 'positive'},\n",
       " {'rev_id': 23, 'blob_sentiment': 'positive', 'vader_sentiment': 'positive'},\n",
       " {'rev_id': 24, 'blob_sentiment': 'positive', 'vader_sentiment': 'positive'}]"
      ]
     },
     "execution_count": 8,
     "metadata": {},
     "output_type": "execute_result"
    }
   ],
   "source": [
    "# now passing the reviwes to the sentiment analyser as the data is clean\n",
    "# we will iterate through each text blocks (each nlock is a review ) and pass it thorugh the analyser\n",
    "# and save the result to dataframe\n",
    "\n",
    "import pandas as pd\n",
    "\n",
    "# creating empty data frame\n",
    "\n",
    "df= pd.DataFrame()\n",
    "rev = [] \n",
    "rt=[]  \n",
    "\n",
    "for i in range(1,25):\n",
    "    review_dict = {} \n",
    "    review_dict['rev_id'] = i\n",
    "    review_dict['blob_sentiment'] = get_vader_sentiment(reviews[i].text)\n",
    "    review_dict['vader_sentiment'] = get_vader_sentiment(reviews[i].text)\n",
    "    \n",
    "    # appending the review to the rt list\n",
    "    \n",
    "    rt.append(reviews[i].text)  \n",
    "    \n",
    "    # appending the result dictionary to rev list \n",
    "    \n",
    "    rev.append(review_dict)\n",
    "\n",
    "    \n",
    "rev"
   ]
  },
  {
   "cell_type": "code",
   "execution_count": 9,
   "metadata": {},
   "outputs": [
    {
     "data": {
      "text/plain": [
       "'2046 is complete balls. A film created by an idiot for idiots, find Wong Kar Wai\\'s latest film exactly the same as all of his others - \"beautiful\" cinematography (exactly what you expect when you hire three million-dollar cinematographers) alongside a complete lack of humanity and interest. Calling Wong Kar Wai a hack is an insult to all of the real hacks who are churning out garbage and making a mint from dumb audiences - the real difference is, here, that Wong Kar Wai fans actually believe they\\'re watching something amazing, smart and groundbreaking.A film for emotionally stunted 15 year olds, the story involves a complete moron whose inability to deal with the women in his life or treat them as actual humans leads him back to a hotel room of emotional significance, in which he proceeds to write a horrible sci-fi story (courtesy of LG!) in attempt to deal with the fact that he\\'s so immature and so pathetic that he can\\'t have any real relationships, only hollow shells because he is human waste.The film, which drags on for at least 2 1/2 years, chronicles his pitiful communication and \\'relationships\\' in a way so stupid I can\\'t believe that people didn\\'t walk out of the cinema. Take special note of the fact that the Japanese woman living at the same location has a boyfriend - he himself notes this at the beginning - then, later, he can\\'t figure out why she doesn\\'t love him. For almost half an hour he writes his bizarre rubbish about how she\\'s a robot and how robots cannot love, until, shock horror! He realises that she has a boyfriend and actually loves him. It\\'s so completely ridiculous it makes me want to jump in front of a train, and yet romanticised to the extent that people actually buy it as some kind of fantastic art-drama.This film is made for idiots. Little boys posing as men who fail in relationships just like the protagonist - they\\'re the idiots flocking to this crap. Oh, as well as all of the other Wong Kar Wai fans, who are really beyond hope. Cinema as punishment, or cure for insomnia, 2046 is one of the worst films of 2005.'"
      ]
     },
     "execution_count": 9,
     "metadata": {},
     "output_type": "execute_result"
    }
   ],
   "source": [
    "# Retrieving the reviews \n",
    "\n",
    "reviews[20].text"
   ]
  },
  {
   "cell_type": "code",
   "execution_count": 10,
   "metadata": {},
   "outputs": [
    {
     "data": {
      "text/plain": [
       "{'rev_id': 21, 'blob_sentiment': 'positive', 'vader_sentiment': 'positive'}"
      ]
     },
     "execution_count": 10,
     "metadata": {},
     "output_type": "execute_result"
    }
   ],
   "source": [
    "# Retrieving the review sentiment \n",
    "\n",
    "rev[20]"
   ]
  },
  {
   "cell_type": "code",
   "execution_count": 11,
   "metadata": {},
   "outputs": [
    {
     "data": {
      "text/html": [
       "<div>\n",
       "<style scoped>\n",
       "    .dataframe tbody tr th:only-of-type {\n",
       "        vertical-align: middle;\n",
       "    }\n",
       "\n",
       "    .dataframe tbody tr th {\n",
       "        vertical-align: top;\n",
       "    }\n",
       "\n",
       "    .dataframe thead th {\n",
       "        text-align: right;\n",
       "    }\n",
       "</style>\n",
       "<table border=\"1\" class=\"dataframe\">\n",
       "  <thead>\n",
       "    <tr style=\"text-align: right;\">\n",
       "      <th></th>\n",
       "      <th>rev_id</th>\n",
       "      <th>blob_sentiment</th>\n",
       "      <th>vader_sentiment</th>\n",
       "    </tr>\n",
       "  </thead>\n",
       "  <tbody>\n",
       "    <tr>\n",
       "      <th>0</th>\n",
       "      <td>1</td>\n",
       "      <td>positive</td>\n",
       "      <td>positive</td>\n",
       "    </tr>\n",
       "    <tr>\n",
       "      <th>1</th>\n",
       "      <td>2</td>\n",
       "      <td>positive</td>\n",
       "      <td>positive</td>\n",
       "    </tr>\n",
       "    <tr>\n",
       "      <th>2</th>\n",
       "      <td>3</td>\n",
       "      <td>positive</td>\n",
       "      <td>positive</td>\n",
       "    </tr>\n",
       "    <tr>\n",
       "      <th>3</th>\n",
       "      <td>4</td>\n",
       "      <td>positive</td>\n",
       "      <td>positive</td>\n",
       "    </tr>\n",
       "    <tr>\n",
       "      <th>4</th>\n",
       "      <td>5</td>\n",
       "      <td>positive</td>\n",
       "      <td>positive</td>\n",
       "    </tr>\n",
       "  </tbody>\n",
       "</table>\n",
       "</div>"
      ],
      "text/plain": [
       "   rev_id blob_sentiment vader_sentiment\n",
       "0       1       positive        positive\n",
       "1       2       positive        positive\n",
       "2       3       positive        positive\n",
       "3       4       positive        positive\n",
       "4       5       positive        positive"
      ]
     },
     "execution_count": 11,
     "metadata": {},
     "output_type": "execute_result"
    }
   ],
   "source": [
    "# Converting all the review sentiments to dataframe\n",
    "\n",
    "df =  pd.DataFrame(rev)\n",
    "df.head()\n"
   ]
  },
  {
   "cell_type": "code",
   "execution_count": 12,
   "metadata": {},
   "outputs": [],
   "source": [
    "# Most of the reviews seems good. That means it a good movie"
   ]
  },
  {
   "cell_type": "code",
   "execution_count": 38,
   "metadata": {},
   "outputs": [
    {
     "data": {
      "text/html": [
       "<div>\n",
       "<style scoped>\n",
       "    .dataframe tbody tr th:only-of-type {\n",
       "        vertical-align: middle;\n",
       "    }\n",
       "\n",
       "    .dataframe tbody tr th {\n",
       "        vertical-align: top;\n",
       "    }\n",
       "\n",
       "    .dataframe thead th {\n",
       "        text-align: right;\n",
       "    }\n",
       "</style>\n",
       "<table border=\"1\" class=\"dataframe\">\n",
       "  <thead>\n",
       "    <tr style=\"text-align: right;\">\n",
       "      <th></th>\n",
       "      <th>text</th>\n",
       "    </tr>\n",
       "  </thead>\n",
       "  <tbody>\n",
       "    <tr>\n",
       "      <th>0</th>\n",
       "      <td>[2046 was directed by Kar Wai Wong, who also d...</td>\n",
       "    </tr>\n",
       "    <tr>\n",
       "      <th>1</th>\n",
       "      <td>[Review: 2046 (2004) By Ken Lee, [], [], Sever...</td>\n",
       "    </tr>\n",
       "    <tr>\n",
       "      <th>2</th>\n",
       "      <td>[I love story with impact, new ideas and rich ...</td>\n",
       "    </tr>\n",
       "    <tr>\n",
       "      <th>3</th>\n",
       "      <td>[There is a strong tragic feeling the film has...</td>\n",
       "    </tr>\n",
       "    <tr>\n",
       "      <th>4</th>\n",
       "      <td>[I went to watch 2046 after reading millions a...</td>\n",
       "    </tr>\n",
       "    <tr>\n",
       "      <th>5</th>\n",
       "      <td>[2046 is more like the sequel to In The Mood f...</td>\n",
       "    </tr>\n",
       "    <tr>\n",
       "      <th>6</th>\n",
       "      <td>[A journalist quits his job, when his novels b...</td>\n",
       "    </tr>\n",
       "    <tr>\n",
       "      <th>7</th>\n",
       "      <td>[Kar Wai Wong is more than a film director (th...</td>\n",
       "    </tr>\n",
       "    <tr>\n",
       "      <th>8</th>\n",
       "      <td>[Please note that this film is almost universa...</td>\n",
       "    </tr>\n",
       "    <tr>\n",
       "      <th>9</th>\n",
       "      <td>[I read different takes on 2046 and its connec...</td>\n",
       "    </tr>\n",
       "    <tr>\n",
       "      <th>10</th>\n",
       "      <td>[The movie was well above my expectation and d...</td>\n",
       "    </tr>\n",
       "    <tr>\n",
       "      <th>11</th>\n",
       "      <td>[I have been looking forward to seeing this fi...</td>\n",
       "    </tr>\n",
       "    <tr>\n",
       "      <th>12</th>\n",
       "      <td>[I believe Kar Wai Wong is one of the greatest...</td>\n",
       "    </tr>\n",
       "    <tr>\n",
       "      <th>13</th>\n",
       "      <td>[Kar Wai Wong is without a doubt, one of the b...</td>\n",
       "    </tr>\n",
       "    <tr>\n",
       "      <th>14</th>\n",
       "      <td>[Movies, due to dubbing, are usually late in G...</td>\n",
       "    </tr>\n",
       "    <tr>\n",
       "      <th>15</th>\n",
       "      <td>[\"2046\" is the number of an apartment where a ...</td>\n",
       "    </tr>\n",
       "    <tr>\n",
       "      <th>16</th>\n",
       "      <td>[I am a great fan of not only Hong Kong cinema...</td>\n",
       "    </tr>\n",
       "    <tr>\n",
       "      <th>17</th>\n",
       "      <td>[Spoilers, [], [], With proliferation of mains...</td>\n",
       "    </tr>\n",
       "    <tr>\n",
       "      <th>18</th>\n",
       "      <td>[Although ostensibly an extension of the story...</td>\n",
       "    </tr>\n",
       "    <tr>\n",
       "      <th>19</th>\n",
       "      <td>[If Welles, Tarkovsky and Kurosawa are the thr...</td>\n",
       "    </tr>\n",
       "    <tr>\n",
       "      <th>20</th>\n",
       "      <td>[2046 is complete balls. A film created by an ...</td>\n",
       "    </tr>\n",
       "    <tr>\n",
       "      <th>21</th>\n",
       "      <td>[First of all, I'd like to introduce myself: I...</td>\n",
       "    </tr>\n",
       "    <tr>\n",
       "      <th>22</th>\n",
       "      <td>[In 1966, in Hong Kong, a writer holes himself...</td>\n",
       "    </tr>\n",
       "    <tr>\n",
       "      <th>23</th>\n",
       "      <td>[Being an avid fan of Wong Kar Wei, I must say...</td>\n",
       "    </tr>\n",
       "    <tr>\n",
       "      <th>24</th>\n",
       "      <td>[I know I'm going against the flow but I hated...</td>\n",
       "    </tr>\n",
       "  </tbody>\n",
       "</table>\n",
       "</div>"
      ],
      "text/plain": [
       "                                                 text\n",
       "0   [2046 was directed by Kar Wai Wong, who also d...\n",
       "1   [Review: 2046 (2004) By Ken Lee, [], [], Sever...\n",
       "2   [I love story with impact, new ideas and rich ...\n",
       "3   [There is a strong tragic feeling the film has...\n",
       "4   [I went to watch 2046 after reading millions a...\n",
       "5   [2046 is more like the sequel to In The Mood f...\n",
       "6   [A journalist quits his job, when his novels b...\n",
       "7   [Kar Wai Wong is more than a film director (th...\n",
       "8   [Please note that this film is almost universa...\n",
       "9   [I read different takes on 2046 and its connec...\n",
       "10  [The movie was well above my expectation and d...\n",
       "11  [I have been looking forward to seeing this fi...\n",
       "12  [I believe Kar Wai Wong is one of the greatest...\n",
       "13  [Kar Wai Wong is without a doubt, one of the b...\n",
       "14  [Movies, due to dubbing, are usually late in G...\n",
       "15  [\"2046\" is the number of an apartment where a ...\n",
       "16  [I am a great fan of not only Hong Kong cinema...\n",
       "17  [Spoilers, [], [], With proliferation of mains...\n",
       "18  [Although ostensibly an extension of the story...\n",
       "19  [If Welles, Tarkovsky and Kurosawa are the thr...\n",
       "20  [2046 is complete balls. A film created by an ...\n",
       "21  [First of all, I'd like to introduce myself: I...\n",
       "22  [In 1966, in Hong Kong, a writer holes himself...\n",
       "23  [Being an avid fan of Wong Kar Wei, I must say...\n",
       "24  [I know I'm going against the flow but I hated..."
      ]
     },
     "execution_count": 38,
     "metadata": {},
     "output_type": "execute_result"
    }
   ],
   "source": [
    "# adding the reviews to data frame \n",
    "\n",
    "rev_text= pd.DataFrame()\n",
    "\n",
    "\n",
    "rev_text['text'] = reviews\n",
    "rev_text"
   ]
  },
  {
   "cell_type": "code",
   "execution_count": 40,
   "metadata": {},
   "outputs": [
    {
     "data": {
      "text/plain": [
       "{'neg': 0.079, 'neu': 0.817, 'pos': 0.104, 'compound': 0.9795}"
      ]
     },
     "execution_count": 40,
     "metadata": {},
     "output_type": "execute_result"
    }
   ],
   "source": [
    "sia = SentimentIntensityAnalyzer()\n",
    "sia.polarity_scores()"
   ]
  },
  {
   "cell_type": "code",
   "execution_count": 41,
   "metadata": {},
   "outputs": [
    {
     "data": {
      "text/html": [
       "<div>\n",
       "<style scoped>\n",
       "    .dataframe tbody tr th:only-of-type {\n",
       "        vertical-align: middle;\n",
       "    }\n",
       "\n",
       "    .dataframe tbody tr th {\n",
       "        vertical-align: top;\n",
       "    }\n",
       "\n",
       "    .dataframe thead th {\n",
       "        text-align: right;\n",
       "    }\n",
       "</style>\n",
       "<table border=\"1\" class=\"dataframe\">\n",
       "  <thead>\n",
       "    <tr style=\"text-align: right;\">\n",
       "      <th></th>\n",
       "      <th>text</th>\n",
       "      <th>scores</th>\n",
       "    </tr>\n",
       "  </thead>\n",
       "  <tbody>\n",
       "    <tr>\n",
       "      <th>0</th>\n",
       "      <td>[2046 was directed by Kar Wai Wong, who also d...</td>\n",
       "      <td>{'neg': 0.02, 'neu': 0.879, 'pos': 0.101, 'com...</td>\n",
       "    </tr>\n",
       "    <tr>\n",
       "      <th>1</th>\n",
       "      <td>[Review: 2046 (2004) By Ken Lee, [], [], Sever...</td>\n",
       "      <td>{'neg': 0.079, 'neu': 0.817, 'pos': 0.104, 'co...</td>\n",
       "    </tr>\n",
       "    <tr>\n",
       "      <th>2</th>\n",
       "      <td>[I love story with impact, new ideas and rich ...</td>\n",
       "      <td>{'neg': 0.073, 'neu': 0.82, 'pos': 0.108, 'com...</td>\n",
       "    </tr>\n",
       "    <tr>\n",
       "      <th>3</th>\n",
       "      <td>[There is a strong tragic feeling the film has...</td>\n",
       "      <td>{'neg': 0.087, 'neu': 0.801, 'pos': 0.112, 'co...</td>\n",
       "    </tr>\n",
       "    <tr>\n",
       "      <th>4</th>\n",
       "      <td>[I went to watch 2046 after reading millions a...</td>\n",
       "      <td>{'neg': 0.054, 'neu': 0.819, 'pos': 0.126, 'co...</td>\n",
       "    </tr>\n",
       "  </tbody>\n",
       "</table>\n",
       "</div>"
      ],
      "text/plain": [
       "                                                text  \\\n",
       "0  [2046 was directed by Kar Wai Wong, who also d...   \n",
       "1  [Review: 2046 (2004) By Ken Lee, [], [], Sever...   \n",
       "2  [I love story with impact, new ideas and rich ...   \n",
       "3  [There is a strong tragic feeling the film has...   \n",
       "4  [I went to watch 2046 after reading millions a...   \n",
       "\n",
       "                                              scores  \n",
       "0  {'neg': 0.02, 'neu': 0.879, 'pos': 0.101, 'com...  \n",
       "1  {'neg': 0.079, 'neu': 0.817, 'pos': 0.104, 'co...  \n",
       "2  {'neg': 0.073, 'neu': 0.82, 'pos': 0.108, 'com...  \n",
       "3  {'neg': 0.087, 'neu': 0.801, 'pos': 0.112, 'co...  \n",
       "4  {'neg': 0.054, 'neu': 0.819, 'pos': 0.126, 'co...  "
      ]
     },
     "execution_count": 41,
     "metadata": {},
     "output_type": "execute_result"
    }
   ],
   "source": [
    "# adding each reviewscore to data table\n",
    "rev_text['scores'] = rev_text['text'].apply(lambda text: sia.polarity_scores(text.text))\n",
    "rev_text.head()"
   ]
  },
  {
   "cell_type": "code",
   "execution_count": 42,
   "metadata": {},
   "outputs": [
    {
     "data": {
      "text/html": [
       "<div>\n",
       "<style scoped>\n",
       "    .dataframe tbody tr th:only-of-type {\n",
       "        vertical-align: middle;\n",
       "    }\n",
       "\n",
       "    .dataframe tbody tr th {\n",
       "        vertical-align: top;\n",
       "    }\n",
       "\n",
       "    .dataframe thead th {\n",
       "        text-align: right;\n",
       "    }\n",
       "</style>\n",
       "<table border=\"1\" class=\"dataframe\">\n",
       "  <thead>\n",
       "    <tr style=\"text-align: right;\">\n",
       "      <th></th>\n",
       "      <th>text</th>\n",
       "      <th>scores</th>\n",
       "      <th>Positive</th>\n",
       "      <th>Negstive</th>\n",
       "      <th>compound</th>\n",
       "    </tr>\n",
       "  </thead>\n",
       "  <tbody>\n",
       "    <tr>\n",
       "      <th>0</th>\n",
       "      <td>[2046 was directed by Kar Wai Wong, who also d...</td>\n",
       "      <td>{'neg': 0.02, 'neu': 0.879, 'pos': 0.101, 'com...</td>\n",
       "      <td>0.101</td>\n",
       "      <td>0.020</td>\n",
       "      <td>0.9697</td>\n",
       "    </tr>\n",
       "    <tr>\n",
       "      <th>1</th>\n",
       "      <td>[Review: 2046 (2004) By Ken Lee, [], [], Sever...</td>\n",
       "      <td>{'neg': 0.079, 'neu': 0.817, 'pos': 0.104, 'co...</td>\n",
       "      <td>0.104</td>\n",
       "      <td>0.079</td>\n",
       "      <td>0.9795</td>\n",
       "    </tr>\n",
       "    <tr>\n",
       "      <th>2</th>\n",
       "      <td>[I love story with impact, new ideas and rich ...</td>\n",
       "      <td>{'neg': 0.073, 'neu': 0.82, 'pos': 0.108, 'com...</td>\n",
       "      <td>0.108</td>\n",
       "      <td>0.073</td>\n",
       "      <td>0.9847</td>\n",
       "    </tr>\n",
       "    <tr>\n",
       "      <th>3</th>\n",
       "      <td>[There is a strong tragic feeling the film has...</td>\n",
       "      <td>{'neg': 0.087, 'neu': 0.801, 'pos': 0.112, 'co...</td>\n",
       "      <td>0.112</td>\n",
       "      <td>0.087</td>\n",
       "      <td>0.9505</td>\n",
       "    </tr>\n",
       "    <tr>\n",
       "      <th>4</th>\n",
       "      <td>[I went to watch 2046 after reading millions a...</td>\n",
       "      <td>{'neg': 0.054, 'neu': 0.819, 'pos': 0.126, 'co...</td>\n",
       "      <td>0.126</td>\n",
       "      <td>0.054</td>\n",
       "      <td>0.9940</td>\n",
       "    </tr>\n",
       "  </tbody>\n",
       "</table>\n",
       "</div>"
      ],
      "text/plain": [
       "                                                text  \\\n",
       "0  [2046 was directed by Kar Wai Wong, who also d...   \n",
       "1  [Review: 2046 (2004) By Ken Lee, [], [], Sever...   \n",
       "2  [I love story with impact, new ideas and rich ...   \n",
       "3  [There is a strong tragic feeling the film has...   \n",
       "4  [I went to watch 2046 after reading millions a...   \n",
       "\n",
       "                                              scores  Positive  Negstive  \\\n",
       "0  {'neg': 0.02, 'neu': 0.879, 'pos': 0.101, 'com...     0.101     0.020   \n",
       "1  {'neg': 0.079, 'neu': 0.817, 'pos': 0.104, 'co...     0.104     0.079   \n",
       "2  {'neg': 0.073, 'neu': 0.82, 'pos': 0.108, 'com...     0.108     0.073   \n",
       "3  {'neg': 0.087, 'neu': 0.801, 'pos': 0.112, 'co...     0.112     0.087   \n",
       "4  {'neg': 0.054, 'neu': 0.819, 'pos': 0.126, 'co...     0.126     0.054   \n",
       "\n",
       "   compound  \n",
       "0    0.9697  \n",
       "1    0.9795  \n",
       "2    0.9847  \n",
       "3    0.9505  \n",
       "4    0.9940  "
      ]
     },
     "execution_count": 42,
     "metadata": {},
     "output_type": "execute_result"
    }
   ],
   "source": [
    "# also adding score\n",
    "rev_text['Positive']  = rev_text['scores'].apply(lambda scores: scores['pos'])\n",
    "rev_text['Negstive']  = rev_text['scores'].apply(lambda scores: scores['neg'])\n",
    "rev_text['compound']  = rev_text['scores'].apply(lambda scores: scores['compound'])\n",
    "rev_text.head()"
   ]
  },
  {
   "cell_type": "code",
   "execution_count": 46,
   "metadata": {},
   "outputs": [],
   "source": [
    "# adding sentiment label\n",
    "rev_text['Sentiment'] = rev_text['compound'].apply(lambda c: 'Pos' if c >0 else 'Neg')"
   ]
  },
  {
   "cell_type": "code",
   "execution_count": 47,
   "metadata": {},
   "outputs": [
    {
     "data": {
      "text/html": [
       "<div>\n",
       "<style scoped>\n",
       "    .dataframe tbody tr th:only-of-type {\n",
       "        vertical-align: middle;\n",
       "    }\n",
       "\n",
       "    .dataframe tbody tr th {\n",
       "        vertical-align: top;\n",
       "    }\n",
       "\n",
       "    .dataframe thead th {\n",
       "        text-align: right;\n",
       "    }\n",
       "</style>\n",
       "<table border=\"1\" class=\"dataframe\">\n",
       "  <thead>\n",
       "    <tr style=\"text-align: right;\">\n",
       "      <th></th>\n",
       "      <th>text</th>\n",
       "      <th>scores</th>\n",
       "      <th>Positive</th>\n",
       "      <th>Negstive</th>\n",
       "      <th>compound</th>\n",
       "      <th>Sentiment</th>\n",
       "    </tr>\n",
       "  </thead>\n",
       "  <tbody>\n",
       "    <tr>\n",
       "      <th>0</th>\n",
       "      <td>[2046 was directed by Kar Wai Wong, who also d...</td>\n",
       "      <td>{'neg': 0.02, 'neu': 0.879, 'pos': 0.101, 'com...</td>\n",
       "      <td>0.101</td>\n",
       "      <td>0.020</td>\n",
       "      <td>0.9697</td>\n",
       "      <td>Pos</td>\n",
       "    </tr>\n",
       "    <tr>\n",
       "      <th>1</th>\n",
       "      <td>[Review: 2046 (2004) By Ken Lee, [], [], Sever...</td>\n",
       "      <td>{'neg': 0.079, 'neu': 0.817, 'pos': 0.104, 'co...</td>\n",
       "      <td>0.104</td>\n",
       "      <td>0.079</td>\n",
       "      <td>0.9795</td>\n",
       "      <td>Pos</td>\n",
       "    </tr>\n",
       "    <tr>\n",
       "      <th>2</th>\n",
       "      <td>[I love story with impact, new ideas and rich ...</td>\n",
       "      <td>{'neg': 0.073, 'neu': 0.82, 'pos': 0.108, 'com...</td>\n",
       "      <td>0.108</td>\n",
       "      <td>0.073</td>\n",
       "      <td>0.9847</td>\n",
       "      <td>Pos</td>\n",
       "    </tr>\n",
       "    <tr>\n",
       "      <th>3</th>\n",
       "      <td>[There is a strong tragic feeling the film has...</td>\n",
       "      <td>{'neg': 0.087, 'neu': 0.801, 'pos': 0.112, 'co...</td>\n",
       "      <td>0.112</td>\n",
       "      <td>0.087</td>\n",
       "      <td>0.9505</td>\n",
       "      <td>Pos</td>\n",
       "    </tr>\n",
       "    <tr>\n",
       "      <th>4</th>\n",
       "      <td>[I went to watch 2046 after reading millions a...</td>\n",
       "      <td>{'neg': 0.054, 'neu': 0.819, 'pos': 0.126, 'co...</td>\n",
       "      <td>0.126</td>\n",
       "      <td>0.054</td>\n",
       "      <td>0.9940</td>\n",
       "      <td>Pos</td>\n",
       "    </tr>\n",
       "  </tbody>\n",
       "</table>\n",
       "</div>"
      ],
      "text/plain": [
       "                                                text  \\\n",
       "0  [2046 was directed by Kar Wai Wong, who also d...   \n",
       "1  [Review: 2046 (2004) By Ken Lee, [], [], Sever...   \n",
       "2  [I love story with impact, new ideas and rich ...   \n",
       "3  [There is a strong tragic feeling the film has...   \n",
       "4  [I went to watch 2046 after reading millions a...   \n",
       "\n",
       "                                              scores  Positive  Negstive  \\\n",
       "0  {'neg': 0.02, 'neu': 0.879, 'pos': 0.101, 'com...     0.101     0.020   \n",
       "1  {'neg': 0.079, 'neu': 0.817, 'pos': 0.104, 'co...     0.104     0.079   \n",
       "2  {'neg': 0.073, 'neu': 0.82, 'pos': 0.108, 'com...     0.108     0.073   \n",
       "3  {'neg': 0.087, 'neu': 0.801, 'pos': 0.112, 'co...     0.112     0.087   \n",
       "4  {'neg': 0.054, 'neu': 0.819, 'pos': 0.126, 'co...     0.126     0.054   \n",
       "\n",
       "   compound Sentiment  \n",
       "0    0.9697       Pos  \n",
       "1    0.9795       Pos  \n",
       "2    0.9847       Pos  \n",
       "3    0.9505       Pos  \n",
       "4    0.9940       Pos  "
      ]
     },
     "execution_count": 47,
     "metadata": {},
     "output_type": "execute_result"
    }
   ],
   "source": [
    "rev_text.head()"
   ]
  },
  {
   "cell_type": "markdown",
   "metadata": {},
   "source": [
    "\n"
   ]
  }
 ],
 "metadata": {
  "kernelspec": {
   "display_name": "Python 3",
   "language": "python",
   "name": "python3"
  },
  "language_info": {
   "codemirror_mode": {
    "name": "ipython",
    "version": 3
   },
   "file_extension": ".py",
   "mimetype": "text/x-python",
   "name": "python",
   "nbconvert_exporter": "python",
   "pygments_lexer": "ipython3",
   "version": "3.8.5"
  }
 },
 "nbformat": 4,
 "nbformat_minor": 4
}
